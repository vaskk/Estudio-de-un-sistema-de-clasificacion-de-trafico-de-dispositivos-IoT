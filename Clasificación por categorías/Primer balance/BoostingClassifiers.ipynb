{
 "cells": [
  {
   "cell_type": "code",
   "execution_count": 1,
   "id": "c5cdefe8",
   "metadata": {},
   "outputs": [],
   "source": [
    "import pandas as pd\n",
    "import numpy as np\n",
    "import time \n",
    "\n",
    "\n",
    "from sklearn.model_selection import GridSearchCV\n",
    "from sklearn.model_selection import RandomizedSearchCV\n",
    "from sklearn.ensemble import AdaBoostClassifier\n",
    "from lightgbm import LGBMClassifier\n",
    "from xgboost import XGBClassifier\n",
    "\n",
    "from sklearn import metrics\n",
    "import matplotlib.pyplot as plt\n",
    "import seaborn as sns\n",
    "import shap\n",
    "from sklearn.model_selection import ShuffleSplit"
   ]
  },
  {
   "cell_type": "code",
   "execution_count": 2,
   "id": "d33cea17",
   "metadata": {},
   "outputs": [],
   "source": [
    "train = pd.read_parquet('train.parquet')\n",
    "test = pd.read_parquet('test.parquet')"
   ]
  },
  {
   "cell_type": "code",
   "execution_count": 3,
   "id": "da2a48f4",
   "metadata": {},
   "outputs": [],
   "source": [
    "#Eliminamos las siguientes columnas, ya que de momento no las vamos a usar\n",
    "train = train.drop(columns = ['device','interaction_type','command'])\n",
    "#Eliminamos las siguientes columnas, ya que de momento no las vamos a usar\n",
    "test = test.drop(columns = ['device','interaction_type','command'])"
   ]
  },
  {
   "cell_type": "code",
   "execution_count": 4,
   "id": "77ccf93e",
   "metadata": {},
   "outputs": [],
   "source": [
    "x_train, y_train = train.drop(columns=['global_category']), train['global_category']\n",
    "x_test, y_test = test.drop(columns=['global_category']), test['global_category']"
   ]
  },
  {
   "cell_type": "markdown",
   "id": "ddc70755",
   "metadata": {},
   "source": [
    "# ADABOOST CLASSIFIER"
   ]
  },
  {
   "cell_type": "code",
   "execution_count": 5,
   "id": "a820e816",
   "metadata": {},
   "outputs": [],
   "source": [
    "ADB = AdaBoostClassifier()\n",
    "\n",
    "#Número maximo de estimadores\n",
    "n_estimators = [int(x) for x in np.linspace(start=10, stop=200, num=10)]\n",
    "#Algoritmo de boosting\n",
    "algorithm = ['SAMME', 'SAMME.R']"
   ]
  },
  {
   "cell_type": "code",
   "execution_count": 17,
   "id": "f9c56b10",
   "metadata": {},
   "outputs": [],
   "source": [
    "start = time.time()\n",
    "ADB.fit(x_train, y_train)\n",
    "stop = time.time()"
   ]
  },
  {
   "cell_type": "code",
   "execution_count": 18,
   "id": "735de98f",
   "metadata": {},
   "outputs": [
    {
     "name": "stdout",
     "output_type": "stream",
     "text": [
      "RandomizedSearch time: 9.806251525878906s\n",
      "Train accuracy :  0.850\n",
      "Test accuracy :  0.720\n"
     ]
    }
   ],
   "source": [
    "print(f\"ADB time: {stop - start}s\")\n",
    "print(f'Train accuracy : {ADB.score(x_train, y_train): .3f}')\n",
    "print(f'Test accuracy : {ADB.score(x_test, y_test): .3f}')"
   ]
  },
  {
   "cell_type": "code",
   "execution_count": 6,
   "id": "1220d234",
   "metadata": {},
   "outputs": [],
   "source": [
    "param_grid = {'n_estimators': n_estimators, \n",
    "              'algorithm': algorithm}\n",
    "\n",
    "ADB_RandoGrid = RandomizedSearchCV(estimator = ADB, param_distributions = param_grid, \n",
    "                                   cv = 5, verbose=2, n_jobs = 4)"
   ]
  },
  {
   "cell_type": "code",
   "execution_count": 7,
   "id": "5af97ab8",
   "metadata": {},
   "outputs": [
    {
     "name": "stdout",
     "output_type": "stream",
     "text": [
      "Fitting 5 folds for each of 10 candidates, totalling 50 fits\n"
     ]
    }
   ],
   "source": [
    "start = time.time()\n",
    "ADB_RandoGrid.fit(x_train, y_train)\n",
    "stop = time.time()"
   ]
  },
  {
   "cell_type": "code",
   "execution_count": 8,
   "id": "42531910",
   "metadata": {},
   "outputs": [
    {
     "name": "stdout",
     "output_type": "stream",
     "text": [
      "RandomizedSearch time: 217.51408290863037s\n",
      "Train accuracy :  0.963\n",
      "Test accuracy :  0.748\n"
     ]
    }
   ],
   "source": [
    "print(f\"RandomizedSearch time: {stop - start}s\")\n",
    "print(f'Train accuracy : {ADB_RandoGrid.score(x_train, y_train): .3f}')\n",
    "print(f'Test accuracy : {ADB_RandoGrid.score(x_test, y_test): .3f}')"
   ]
  },
  {
   "cell_type": "code",
   "execution_count": 9,
   "id": "dbd269c8",
   "metadata": {},
   "outputs": [
    {
     "data": {
      "text/plain": [
       "{'n_estimators': 157, 'algorithm': 'SAMME'}"
      ]
     },
     "execution_count": 9,
     "metadata": {},
     "output_type": "execute_result"
    }
   ],
   "source": [
    "ADB_RandoGrid.best_params_"
   ]
  },
  {
   "cell_type": "code",
   "execution_count": 19,
   "id": "c6edfbe8",
   "metadata": {},
   "outputs": [],
   "source": [
    "#Probamos los mejores parámetros\n",
    "ADB = AdaBoostClassifier(n_estimators = 157,\n",
    "                         algorithm='SAMME')\n",
    "\n",
    "\n",
    "start = time.time()\n",
    "ADB.fit(x_train, y_train)\n",
    "stop = time.time()"
   ]
  },
  {
   "cell_type": "code",
   "execution_count": 20,
   "id": "fd884634",
   "metadata": {},
   "outputs": [
    {
     "name": "stdout",
     "output_type": "stream",
     "text": [
      "AdaBoost training time: 29.94755983352661s\n",
      "Train accuracy :  0.963\n",
      "Test accuracy :  0.748\n"
     ]
    }
   ],
   "source": [
    "print(f\"AdaBoost training time: {stop - start}s\")\n",
    "print(f'Train accuracy : {ADB.score(x_train, y_train): .3f}')\n",
    "print(f'Test accuracy : {ADB.score(x_test, y_test): .3f}')"
   ]
  },
  {
   "cell_type": "markdown",
   "id": "42ece439",
   "metadata": {},
   "source": [
    "## Matriz de confusión:"
   ]
  },
  {
   "cell_type": "code",
   "execution_count": 14,
   "id": "9dd45a02",
   "metadata": {},
   "outputs": [],
   "source": [
    "#Guardamos la predicción de Adaboost\n",
    "y_pred_ADB = ADB.predict(x_test)\n",
    "cm = metrics.confusion_matrix(y_test, y_pred_ADB)"
   ]
  },
  {
   "cell_type": "code",
   "execution_count": 15,
   "id": "e1e94407",
   "metadata": {},
   "outputs": [
    {
     "data": {
      "image/png": "[encoded data removed]",
      "text/plain": [
       "<Figure size 300x300 with 1 Axes>"
      ]
     },
     "metadata": {},
     "output_type": "display_data"
    }
   ],
   "source": [
    "plt.figure(figsize=(3,3))\n",
    "sns.heatmap(cm, annot = True, fmt = '0.1f', linewidth=0.5, \n",
    "            square = True, cbar = False)\n",
    "plt.ylabel('Valores Reales')\n",
    "plt.xlabel('Valores Predichos')\n",
    "plt.show()"
   ]
  },
  {
   "cell_type": "raw",
   "id": "ecb4371d",
   "metadata": {},
   "source": [
    "Precision = TP/TP+TN\n",
    "Recall = TP/TP+FN\n",
    "F1 Score = 2*((Precision*Recall)/(Precision+Recall))\n",
    "\n",
    "macro avg -> Media aritmética\n",
    "Weighted avg -> Considera el número de muestras que hay en cada etiqueta."
   ]
  },
  {
   "cell_type": "code",
   "execution_count": 17,
   "id": "8f50fd67",
   "metadata": {},
   "outputs": [
    {
     "name": "stdout",
     "output_type": "stream",
     "text": [
      "                 precision    recall  f1-score   support\n",
      "\n",
      "          AUDIO       0.59      0.98      0.74      3262\n",
      "         CAMERA       0.99      0.99      0.99      3401\n",
      "HOME AUTOMATION       0.93      0.28      0.42      3056\n",
      "\n",
      "       accuracy                           0.76      9719\n",
      "      macro avg       0.84      0.75      0.72      9719\n",
      "   weighted avg       0.84      0.76      0.73      9719\n",
      "\n"
     ]
    }
   ],
   "source": [
    "print(metrics.classification_report(y_test, y_pred_ADB))"
   ]
  },
  {
   "cell_type": "markdown",
   "id": "acb75332",
   "metadata": {},
   "source": [
    "## Introduciendo parámetros manualmente:"
   ]
  },
  {
   "cell_type": "code",
   "execution_count": 21,
   "id": "98f5850f",
   "metadata": {},
   "outputs": [],
   "source": [
    "ADB = AdaBoostClassifier(n_estimators = 24,\n",
    "                         algorithm='SAMME')\n",
    "\n",
    "\n",
    "#24 -> 0.788\n",
    "start = time.time()\n",
    "ADB.fit(x_train, y_train)\n",
    "stop = time.time()"
   ]
  },
  {
   "cell_type": "code",
   "execution_count": 22,
   "id": "a39f1ee8",
   "metadata": {},
   "outputs": [
    {
     "name": "stdout",
     "output_type": "stream",
     "text": [
      "AdaBoost training time: 4.625969648361206s\n",
      "Train accuracy :  0.964\n",
      "Test accuracy :  0.788\n"
     ]
    }
   ],
   "source": [
    "print(f\"AdaBoost training time: {stop - start}s\")\n",
    "print(f'Train accuracy : {ADB.score(x_train, y_train): .3f}')\n",
    "print(f'Test accuracy : {ADB.score(x_test, y_test): .3f}')"
   ]
  },
  {
   "cell_type": "markdown",
   "id": "3c9884c1",
   "metadata": {},
   "source": [
    "## Matriz de confusión:"
   ]
  },
  {
   "cell_type": "code",
   "execution_count": 28,
   "id": "e1672d5b",
   "metadata": {},
   "outputs": [],
   "source": [
    "#Guardamos la predicción de Adaboost\n",
    "y_pred_ADB2 = ADB.predict(x_test)\n",
    "cm = metrics.confusion_matrix(y_test, y_pred_ADB2)"
   ]
  },
  {
   "cell_type": "code",
   "execution_count": 29,
   "id": "c3149e7f",
   "metadata": {},
   "outputs": [
    {
     "data": {
      "image/png": "[encoded data removed]",
      "text/plain": [
       "<Figure size 500x500 with 1 Axes>"
      ]
     },
     "metadata": {},
     "output_type": "display_data"
    }
   ],
   "source": [
    "class_names = ['AUDIO', 'CAMERA', 'HOME AUTOMATION']\n",
    "\n",
    "sns.heatmap(cm, annot = True, fmt = '0.0f', linewidth=0.5, xticklabels=class_names, \n",
    "            yticklabels=class_names, square = True, cmap='Blues', cbar = False)\n",
    "\n",
    "fig = plt.gcf()\n",
    "fig.set_size_inches(5, 5)\n",
    "\n",
    "plt.ylabel('Valores Reales')\n",
    "plt.xlabel('Valores Predichos')\n",
    "plt.show()"
   ]
  },
  {
   "cell_type": "code",
   "execution_count": 31,
   "id": "19a75208",
   "metadata": {},
   "outputs": [
    {
     "name": "stdout",
     "output_type": "stream",
     "text": [
      "                 precision    recall  f1-score   support\n",
      "\n",
      "          AUDIO       0.62      0.96      0.76      3262\n",
      "         CAMERA       0.99      1.00      0.99      3401\n",
      "HOME AUTOMATION       0.90      0.37      0.52      3056\n",
      "\n",
      "       accuracy                           0.79      9719\n",
      "      macro avg       0.84      0.78      0.76      9719\n",
      "   weighted avg       0.84      0.79      0.77      9719\n",
      "\n"
     ]
    }
   ],
   "source": [
    "print(metrics.classification_report(y_test, y_pred_ADB2))"
   ]
  },
  {
   "cell_type": "markdown",
   "id": "9653fc78",
   "metadata": {},
   "source": [
    "# LGBM:"
   ]
  },
  {
   "cell_type": "markdown",
   "id": "c147185b",
   "metadata": {},
   "source": [
    "## Sin hiperparámetros:"
   ]
  },
  {
   "cell_type": "code",
   "execution_count": 10,
   "id": "ccae9289",
   "metadata": {},
   "outputs": [],
   "source": [
    "LGBM = LGBMClassifier()\n",
    "\n",
    "start = time.time()\n",
    "LGBM.fit(x_train, y_train)\n",
    "stop = time.time()"
   ]
  },
  {
   "cell_type": "code",
   "execution_count": 11,
   "id": "721bb350",
   "metadata": {},
   "outputs": [
    {
     "name": "stdout",
     "output_type": "stream",
     "text": [
      "LGBM time: 1.0483415126800537s\n",
      "Train accuracy :  1.000\n",
      "Test accuracy :  0.801\n"
     ]
    }
   ],
   "source": [
    "print(f\"LGBM time: {stop - start}s\")\n",
    "print(f'Train accuracy : {LGBM.score(x_train, y_train): .3f}')\n",
    "print(f'Test accuracy : {LGBM.score(x_test, y_test): .3f}')"
   ]
  },
  {
   "cell_type": "markdown",
   "id": "bbd3fe06",
   "metadata": {},
   "source": [
    "## Introduciendo hiperparámetros:"
   ]
  },
  {
   "cell_type": "code",
   "execution_count": 12,
   "id": "6c6652b3",
   "metadata": {},
   "outputs": [],
   "source": [
    "boosting_type = ['gbdt', 'dart', 'rf']\n",
    "#Máx. número de hojas para los 'base learners'\n",
    "num_leaves = [int(x) for x in np.linspace(start=1, stop=50, num=50)]\n",
    "#Número de 'boosted trees'\n",
    "n_estimators = [int(x) for x in np.linspace(start=10, stop=200, num=20)]\n",
    "#Mínimo número de datos que se necesitan en las hojas"
   ]
  },
  {
   "cell_type": "code",
   "execution_count": 13,
   "id": "63a95a9c",
   "metadata": {},
   "outputs": [
    {
     "name": "stdout",
     "output_type": "stream",
     "text": [
      "Fitting 5 folds for each of 10 candidates, totalling 50 fits\n",
      "[CV] END .boosting_type=dart, n_estimators=50, num_leaves=45; total time=   0.5s\n",
      "[CV] END .boosting_type=dart, n_estimators=50, num_leaves=45; total time=   0.4s\n",
      "[CV] END .boosting_type=dart, n_estimators=50, num_leaves=45; total time=   0.4s\n",
      "[CV] END .boosting_type=dart, n_estimators=50, num_leaves=45; total time=   0.4s\n",
      "[CV] END .boosting_type=dart, n_estimators=50, num_leaves=45; total time=   0.5s\n",
      "[CV] END boosting_type=gbdt, n_estimators=180, num_leaves=18; total time=   0.7s\n",
      "[CV] END boosting_type=gbdt, n_estimators=180, num_leaves=18; total time=   0.8s\n",
      "[CV] END boosting_type=gbdt, n_estimators=180, num_leaves=18; total time=   0.8s\n",
      "[CV] END boosting_type=gbdt, n_estimators=180, num_leaves=18; total time=   0.8s\n",
      "[CV] END boosting_type=gbdt, n_estimators=180, num_leaves=18; total time=   0.8s\n",
      "[CV] END boosting_type=gbdt, n_estimators=190, num_leaves=50; total time=   1.1s\n",
      "[CV] END boosting_type=gbdt, n_estimators=190, num_leaves=50; total time=   1.1s\n",
      "[CV] END boosting_type=gbdt, n_estimators=190, num_leaves=50; total time=   1.1s\n",
      "[CV] END boosting_type=gbdt, n_estimators=190, num_leaves=50; total time=   1.0s\n",
      "[CV] END boosting_type=gbdt, n_estimators=190, num_leaves=50; total time=   1.2s\n",
      "[CV] END .boosting_type=gbdt, n_estimators=90, num_leaves=17; total time=   0.5s\n",
      "[CV] END .boosting_type=gbdt, n_estimators=90, num_leaves=17; total time=   0.4s\n",
      "[CV] END .boosting_type=gbdt, n_estimators=90, num_leaves=17; total time=   0.4s\n",
      "[CV] END .boosting_type=gbdt, n_estimators=90, num_leaves=17; total time=   0.4s\n",
      "[CV] END .boosting_type=gbdt, n_estimators=90, num_leaves=17; total time=   0.4s\n",
      "[CV] END .boosting_type=gbdt, n_estimators=50, num_leaves=20; total time=   0.3s\n",
      "[CV] END .boosting_type=gbdt, n_estimators=50, num_leaves=20; total time=   0.3s\n",
      "[CV] END .boosting_type=gbdt, n_estimators=50, num_leaves=20; total time=   0.3s\n",
      "[CV] END .boosting_type=gbdt, n_estimators=50, num_leaves=20; total time=   0.3s\n",
      "[CV] END .boosting_type=gbdt, n_estimators=50, num_leaves=20; total time=   0.3s\n",
      "[CV] END ...boosting_type=rf, n_estimators=20, num_leaves=37; total time=   0.0s\n",
      "[CV] END ...boosting_type=rf, n_estimators=20, num_leaves=37; total time=   0.0s\n",
      "[CV] END ...boosting_type=rf, n_estimators=20, num_leaves=37; total time=   0.0s\n",
      "[CV] END ...boosting_type=rf, n_estimators=20, num_leaves=37; total time=   0.0s\n",
      "[CV] END ...boosting_type=rf, n_estimators=20, num_leaves=37; total time=   0.1s\n",
      "[CV] END .boosting_type=gbdt, n_estimators=140, num_leaves=4; total time=   0.4s\n",
      "[CV] END .boosting_type=gbdt, n_estimators=140, num_leaves=4; total time=   0.4s\n",
      "[CV] END .boosting_type=gbdt, n_estimators=140, num_leaves=4; total time=   0.4s\n",
      "[CV] END .boosting_type=gbdt, n_estimators=140, num_leaves=4; total time=   0.4s\n",
      "[CV] END .boosting_type=gbdt, n_estimators=140, num_leaves=4; total time=   0.4s\n",
      "[CV] END ....boosting_type=rf, n_estimators=20, num_leaves=9; total time=   0.0s\n",
      "[CV] END ....boosting_type=rf, n_estimators=20, num_leaves=9; total time=   0.1s\n",
      "[CV] END ....boosting_type=rf, n_estimators=20, num_leaves=9; total time=   0.1s\n",
      "[CV] END ....boosting_type=rf, n_estimators=20, num_leaves=9; total time=   0.1s\n",
      "[CV] END ....boosting_type=rf, n_estimators=20, num_leaves=9; total time=   0.1s\n",
      "[CV] END boosting_type=gbdt, n_estimators=160, num_leaves=10; total time=   0.6s\n",
      "[CV] END boosting_type=gbdt, n_estimators=160, num_leaves=10; total time=   0.5s\n",
      "[CV] END boosting_type=gbdt, n_estimators=160, num_leaves=10; total time=   0.6s\n",
      "[CV] END boosting_type=gbdt, n_estimators=160, num_leaves=10; total time=   0.5s\n",
      "[CV] END boosting_type=gbdt, n_estimators=160, num_leaves=10; total time=   0.6s\n",
      "[CV] END .boosting_type=gbdt, n_estimators=40, num_leaves=31; total time=   0.3s\n",
      "[CV] END .boosting_type=gbdt, n_estimators=40, num_leaves=31; total time=   0.3s\n",
      "[CV] END .boosting_type=gbdt, n_estimators=40, num_leaves=31; total time=   0.3s\n",
      "[CV] END .boosting_type=gbdt, n_estimators=40, num_leaves=31; total time=   0.3s\n",
      "[CV] END .boosting_type=gbdt, n_estimators=40, num_leaves=31; total time=   0.3s\n"
     ]
    },
    {
     "name": "stderr",
     "output_type": "stream",
     "text": [
      "\n",
      "10 fits failed out of a total of 50.\n",
      "The score on these train-test partitions for these parameters will be set to nan.\n",
      "If these failures are not expected, you can try to debug them by setting error_score='raise'.\n",
      "\n",
      "Below are more details about the failures:\n",
      "--------------------------------------------------------------------------------\n",
      "10 fits failed with the following error:\n",
      "Traceback (most recent call last):\n",
      "  File \"C:\\Users\\boii_\\anaconda3\\lib\\site-packages\\sklearn\\model_selection\\_validation.py\", line 680, in _fit_and_score\n",
      "    estimator.fit(X_train, y_train, **fit_params)\n",
      "  File \"C:\\Users\\boii_\\anaconda3\\lib\\site-packages\\lightgbm\\sklearn.py\", line 967, in fit\n",
      "    super().fit(X, _y, sample_weight=sample_weight, init_score=init_score, eval_set=valid_sets,\n",
      "  File \"C:\\Users\\boii_\\anaconda3\\lib\\site-packages\\lightgbm\\sklearn.py\", line 748, in fit\n",
      "    self._Booster = train(\n",
      "  File \"C:\\Users\\boii_\\anaconda3\\lib\\site-packages\\lightgbm\\engine.py\", line 271, in train\n",
      "    booster = Booster(params=params, train_set=train_set)\n",
      "  File \"C:\\Users\\boii_\\anaconda3\\lib\\site-packages\\lightgbm\\basic.py\", line 2610, in __init__\n",
      "    _safe_call(_LIB.LGBM_BoosterCreate(\n",
      "  File \"C:\\Users\\boii_\\anaconda3\\lib\\site-packages\\lightgbm\\basic.py\", line 125, in _safe_call\n",
      "    raise LightGBMError(_LIB.LGBM_GetLastError().decode('utf-8'))\n",
      "lightgbm.basic.LightGBMError: Check failed: config->bagging_freq > 0 && config->bagging_fraction < 1.0f && config->bagging_fraction > 0.0f at D:\\a\\1\\s\\python-package\\compile\\src\\boosting\\rf.hpp, line 35 .\n",
      "\n",
      "\n",
      "One or more of the test scores are non-finite: [0.93465207 0.96632521 0.96910397 0.96196868 0.96321677        nan\n",
      " 0.96470034        nan 0.9674791  0.9359237 ]\n"
     ]
    }
   ],
   "source": [
    "param_grid7 = {'boosting_type': boosting_type, \n",
    "              'num_leaves': num_leaves,\n",
    "              'n_estimators': n_estimators}\n",
    "\n",
    "LGBM_RandomGrid = RandomizedSearchCV(estimator = LGBM,\n",
    "                                    param_distributions = param_grid7, \n",
    "                                    cv = 5, verbose=2)\n",
    "\n",
    "start = time.time()\n",
    "LGBM_RandomGrid.fit(x_train, y_train)\n",
    "stop = time.time()"
   ]
  },
  {
   "cell_type": "code",
   "execution_count": 15,
   "id": "d9ca5388",
   "metadata": {},
   "outputs": [
    {
     "name": "stdout",
     "output_type": "stream",
     "text": [
      "Score:  0.9691039679736253\n",
      "Parameters:  {'num_leaves': 50, 'n_estimators': 190, 'boosting_type': 'gbdt'}\n"
     ]
    }
   ],
   "source": [
    "print('Score: ', LGBM_RandomGrid.best_score_)\n",
    "print('Parameters: ', LGBM_RandomGrid.best_params_)"
   ]
  },
  {
   "cell_type": "code",
   "execution_count": 16,
   "id": "3cfdb7b0",
   "metadata": {},
   "outputs": [
    {
     "name": "stdout",
     "output_type": "stream",
     "text": [
      "LGBM_RandomGrid training time: 28.74384331703186s\n",
      "Train accuracy :  1.000\n",
      "Test accuracy :  0.807\n"
     ]
    }
   ],
   "source": [
    "print(f\"LGBM_RandomGrid training time: {stop - start}s\")\n",
    "print(f'Train accuracy : {LGBM_RandomGrid.score(x_train, y_train): .3f}')\n",
    "print(f'Test accuracy : {LGBM_RandomGrid.score(x_test, y_test): .3f}')"
   ]
  },
  {
   "cell_type": "code",
   "execution_count": 23,
   "id": "c845fc18",
   "metadata": {},
   "outputs": [],
   "source": [
    "LGBM2 = LGBMClassifier(num_leaves = 50,\n",
    "                      n_estimators = 190, \n",
    "                      boosting_type = 'gbdt')\n",
    "#28\n",
    "#4 -> 0.829\n",
    "start = time.time()\n",
    "LGBM2.fit(x_train, y_train)\n",
    "stop = time.time()"
   ]
  },
  {
   "cell_type": "code",
   "execution_count": 24,
   "id": "afbce29d",
   "metadata": {},
   "outputs": [
    {
     "name": "stdout",
     "output_type": "stream",
     "text": [
      "LGBM time: 1.263223648071289s\n",
      "Train accuracy :  1.000\n",
      "Test accuracy :  0.807\n"
     ]
    }
   ],
   "source": [
    "print(f\"LGBM time: {stop - start}s\")\n",
    "print(f'Train accuracy : {LGBM2.score(x_train, y_train): .3f}')\n",
    "print(f'Test accuracy : {LGBM2.score(x_test, y_test): .3f}')"
   ]
  },
  {
   "cell_type": "code",
   "execution_count": 281,
   "id": "145816d7",
   "metadata": {},
   "outputs": [
    {
     "data": {
      "image/png": "[encoded data removed]",
      "text/plain": [
       "<Figure size 300x300 with 1 Axes>"
      ]
     },
     "metadata": {},
     "output_type": "display_data"
    }
   ],
   "source": [
    "#Guardamos la predicción de MLP\n",
    "y_pred_LGBM2 = LGBM2.predict(x_test)\n",
    "cm = metrics.confusion_matrix(y_test, y_pred_LGBM2)\n",
    "\n",
    "plt.figure(figsize=(3,3))\n",
    "sns.heatmap(cm, annot = True, fmt = '0.1f', linewidth=0.5, \n",
    "            square = True, cbar = False)\n",
    "plt.ylabel('Valores Reales')\n",
    "plt.xlabel('Valores Predichos')\n",
    "plt.show()"
   ]
  },
  {
   "cell_type": "code",
   "execution_count": 282,
   "id": "771e8620",
   "metadata": {},
   "outputs": [
    {
     "name": "stdout",
     "output_type": "stream",
     "text": [
      "Reporte del clasificador MLP: \n",
      " LGBMClassifier(n_estimators=170, num_leaves=40)\n",
      "                  precision    recall  f1-score   support\n",
      "\n",
      "          AUDIO       0.64      1.00      0.78      3262\n",
      "         CAMERA       0.98      1.00      0.99      3401\n",
      "HOME AUTOMATION       0.99      0.38      0.55      3056\n",
      "\n",
      "       accuracy                           0.80      9719\n",
      "      macro avg       0.87      0.79      0.77      9719\n",
      "   weighted avg       0.87      0.80      0.78      9719\n",
      "\n",
      "\n"
     ]
    }
   ],
   "source": [
    "print(\"Reporte del clasificador MLP: \\n %s\\n %s\\n\"\n",
    "     %(LGBM, metrics.classification_report(y_test, y_pred_LGBM2)))"
   ]
  },
  {
   "cell_type": "markdown",
   "id": "bd4d248f",
   "metadata": {},
   "source": [
    "## Introducimos los parámetros de forma manual:"
   ]
  },
  {
   "cell_type": "code",
   "execution_count": 25,
   "id": "09a4c915",
   "metadata": {},
   "outputs": [],
   "source": [
    "LGBM3 = LGBMClassifier(num_leaves = 28,\n",
    "                      n_estimators = 4, \n",
    "                      boosting_type = 'gbdt')\n",
    "#28\n",
    "#4 -> 0.829\n",
    "start = time.time()\n",
    "LGBM3.fit(x_train, y_train)\n",
    "stop = time.time()"
   ]
  },
  {
   "cell_type": "code",
   "execution_count": 26,
   "id": "360d5e2b",
   "metadata": {},
   "outputs": [
    {
     "name": "stdout",
     "output_type": "stream",
     "text": [
      "LGBM time: 0.17575788497924805s\n",
      "Train accuracy :  0.998\n",
      "Test accuracy :  0.831\n"
     ]
    }
   ],
   "source": [
    "print(f\"LGBM time: {stop - start}s\")\n",
    "print(f'Train accuracy : {LGBM3.score(x_train, y_train): .3f}')\n",
    "print(f'Test accuracy : {LGBM3.score(x_test, y_test): .3f}')"
   ]
  },
  {
   "cell_type": "markdown",
   "id": "0ee198f4",
   "metadata": {},
   "source": [
    "## Matriz de confusión:"
   ]
  },
  {
   "cell_type": "code",
   "execution_count": 27,
   "id": "b7c08dba",
   "metadata": {},
   "outputs": [
    {
     "data": {
      "image/png": "[encoded data removed]",
      "text/plain": [
       "<Figure size 500x500 with 1 Axes>"
      ]
     },
     "metadata": {},
     "output_type": "display_data"
    }
   ],
   "source": [
    "y_pred_LGBM3 = LGBM3.predict(x_test)\n",
    "cm = metrics.confusion_matrix(y_test, y_pred_LGBM3)\n",
    "\n",
    "class_names = ['AUDIO', 'CAMERA', 'HOME AUTOMATION']\n",
    "\n",
    "sns.heatmap(cm, annot = True, fmt = '0.0f', linewidth=0.5, xticklabels=class_names, \n",
    "            yticklabels=class_names, square = True, cmap='Blues', cbar = False)\n",
    "\n",
    "fig = plt.gcf()\n",
    "fig.set_size_inches(5, 5)\n",
    "\n",
    "plt.ylabel('Valores Reales')\n",
    "plt.xlabel('Valores Predichos')\n",
    "plt.show()"
   ]
  },
  {
   "cell_type": "code",
   "execution_count": 288,
   "id": "701b7427",
   "metadata": {},
   "outputs": [
    {
     "name": "stdout",
     "output_type": "stream",
     "text": [
      "Reporte del clasificador MLP: \n",
      " LGBMClassifier()\n",
      "                  precision    recall  f1-score   support\n",
      "\n",
      "          AUDIO       0.64      1.00      0.78      3262\n",
      "         CAMERA       0.98      1.00      0.99      3401\n",
      "HOME AUTOMATION       0.99      0.38      0.55      3056\n",
      "\n",
      "       accuracy                           0.80      9719\n",
      "      macro avg       0.87      0.79      0.77      9719\n",
      "   weighted avg       0.87      0.80      0.78      9719\n",
      "\n",
      "\n"
     ]
    }
   ],
   "source": [
    "print(\"Reporte del clasificador MLP: \\n %s\\n %s\\n\"\n",
    "     %(LGBM, metrics.classification_report(y_test, y_pred_LGBM2)))"
   ]
  }
 ],
 "metadata": {
  "kernelspec": {
   "display_name": "Python 3 (ipykernel)",
   "language": "python",
   "name": "python3"
  },
  "language_info": {
   "codemirror_mode": {
    "name": "ipython",
    "version": 3
   },
   "file_extension": ".py",
   "mimetype": "text/x-python",
   "name": "python",
   "nbconvert_exporter": "python",
   "pygments_lexer": "ipython3",
   "version": "3.9.13"
  }
 },
 "nbformat": 4,
 "nbformat_minor": 5
}
