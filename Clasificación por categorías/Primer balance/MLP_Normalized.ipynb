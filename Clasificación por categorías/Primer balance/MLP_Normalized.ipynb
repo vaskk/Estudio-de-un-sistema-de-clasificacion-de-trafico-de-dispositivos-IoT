{
 "cells": [
  {
   "cell_type": "code",
   "execution_count": 2,
   "id": "a1090d0d",
   "metadata": {},
   "outputs": [],
   "source": [
    "import pandas as pd\n",
    "import numpy as np\n",
    "import time \n",
    "\n",
    "from sklearn.model_selection import GridSearchCV\n",
    "from sklearn.model_selection import RandomizedSearchCV\n",
    "from sklearn.preprocessing import StandardScaler\n",
    "from sklearn.preprocessing import MinMaxScaler\n",
    "from sklearn.neural_network import MLPClassifier\n",
    "\n",
    "from sklearn import metrics\n",
    "import matplotlib.pyplot as plt\n",
    "import seaborn as sns\n",
    "from sklearn import preprocessing"
   ]
  },
  {
   "cell_type": "code",
   "execution_count": 3,
   "id": "fd8956c3",
   "metadata": {},
   "outputs": [],
   "source": [
    "train = pd.read_parquet('train.parquet')\n",
    "test = pd.read_parquet('test.parquet')"
   ]
  },
  {
   "cell_type": "code",
   "execution_count": 4,
   "id": "a7e542f8",
   "metadata": {},
   "outputs": [],
   "source": [
    "#Eliminamos las siguientes columnas, ya que de momento no las vamos a usar\n",
    "train = train.drop(columns = ['device','interaction_type','command'])\n",
    "#Eliminamos las siguientes columnas, ya que de momento no las vamos a usar\n",
    "test = test.drop(columns = ['device','interaction_type','command'])"
   ]
  },
  {
   "cell_type": "code",
   "execution_count": 5,
   "id": "0b7c3ff7",
   "metadata": {},
   "outputs": [],
   "source": [
    "x_train, y_train = train.drop(columns=['global_category']), train['global_category']\n",
    "x_test, y_test = test.drop(columns=['global_category']), test['global_category']"
   ]
  },
  {
   "cell_type": "code",
   "execution_count": 6,
   "id": "55e3de26",
   "metadata": {},
   "outputs": [
    {
     "name": "stdout",
     "output_type": "stream",
     "text": [
      "X_train : (42465, 41)\n",
      "y_train : (42465,)\n",
      "X_test : (9719, 41)\n",
      "y_test : (9719,)\n"
     ]
    }
   ],
   "source": [
    "#Filas y columnas de cada conjunto:\n",
    "print(f'X_train : {x_train.shape}')\n",
    "print(f'y_train : {y_train.shape}')\n",
    "print(f'X_test : {x_test.shape}')\n",
    "print(f'y_test : {y_test.shape}')"
   ]
  },
  {
   "cell_type": "markdown",
   "id": "737edf51",
   "metadata": {},
   "source": [
    "# Normalización de los datos"
   ]
  },
  {
   "cell_type": "code",
   "execution_count": 7,
   "id": "f76d3774",
   "metadata": {},
   "outputs": [],
   "source": [
    "scaler = MinMaxScaler()\n",
    "X_train_scaled = scaler.fit_transform(x_train.select_dtypes(include=['float64', 'int64']))\n",
    "X_test_scaled = scaler.transform(x_test.select_dtypes(include=['float64', 'int64']))"
   ]
  },
  {
   "cell_type": "markdown",
   "id": "b4d72c1a",
   "metadata": {},
   "source": [
    "## Sin hiperparámetros:"
   ]
  },
  {
   "cell_type": "code",
   "execution_count": 8,
   "id": "cb70322f",
   "metadata": {},
   "outputs": [],
   "source": [
    "clf = MLPClassifier()\n",
    "\n",
    "start = time.time()\n",
    "clf.fit(X_train_scaled, y_train)\n",
    "stop = time.time()"
   ]
  },
  {
   "cell_type": "code",
   "execution_count": 9,
   "id": "a8c9da33",
   "metadata": {},
   "outputs": [
    {
     "name": "stdout",
     "output_type": "stream",
     "text": [
      "MLP execution time:  24.598050355911255s\n",
      "Train accuracy :  1.000\n",
      "Test accuracy :  0.665\n"
     ]
    }
   ],
   "source": [
    "print(f'MLP execution time: {stop-start: }s')\n",
    "print(f'Train accuracy : {clf.score(X_train_scaled, y_train): .3f}')\n",
    "print(f'Test accuracy : {clf.score(X_test_scaled, y_test): .3f}')"
   ]
  },
  {
   "cell_type": "code",
   "execution_count": 10,
   "id": "ff7714d1",
   "metadata": {},
   "outputs": [
    {
     "data": {
      "image/png": "[encoded data removed]",
      "text/plain": [
       "<Figure size 500x500 with 1 Axes>"
      ]
     },
     "metadata": {},
     "output_type": "display_data"
    }
   ],
   "source": [
    "y_pred = clf.predict(X_test_scaled)\n",
    "cm = metrics.confusion_matrix(y_test, y_pred)\n",
    "\n",
    "class_names = ['AUDIO', 'CAMERA', 'HOME AUTOMATION']\n",
    "\n",
    "sns.heatmap(cm, annot = True, fmt = '0.0f', linewidth=0.5, xticklabels=class_names, \n",
    "            yticklabels=class_names, square = True, cmap='Blues', cbar = False)\n",
    "\n",
    "fig = plt.gcf()\n",
    "fig.set_size_inches(5, 5)\n",
    "\n",
    "plt.ylabel('Valores Reales')\n",
    "plt.xlabel('Valores Predichos')\n",
    "plt.show()"
   ]
  },
  {
   "cell_type": "code",
   "execution_count": 11,
   "id": "50bc7123",
   "metadata": {},
   "outputs": [
    {
     "data": {
      "text/plain": [
       "{'activation': 'relu',\n",
       " 'alpha': 0.0001,\n",
       " 'batch_size': 'auto',\n",
       " 'beta_1': 0.9,\n",
       " 'beta_2': 0.999,\n",
       " 'early_stopping': False,\n",
       " 'epsilon': 1e-08,\n",
       " 'hidden_layer_sizes': (100,),\n",
       " 'learning_rate': 'constant',\n",
       " 'learning_rate_init': 0.001,\n",
       " 'max_fun': 15000,\n",
       " 'max_iter': 200,\n",
       " 'momentum': 0.9,\n",
       " 'n_iter_no_change': 10,\n",
       " 'nesterovs_momentum': True,\n",
       " 'power_t': 0.5,\n",
       " 'random_state': None,\n",
       " 'shuffle': True,\n",
       " 'solver': 'adam',\n",
       " 'tol': 0.0001,\n",
       " 'validation_fraction': 0.1,\n",
       " 'verbose': False,\n",
       " 'warm_start': False}"
      ]
     },
     "execution_count": 11,
     "metadata": {},
     "output_type": "execute_result"
    }
   ],
   "source": [
    "clf.get_params()"
   ]
  },
  {
   "cell_type": "code",
   "execution_count": 71,
   "id": "67035a65",
   "metadata": {},
   "outputs": [
    {
     "data": {
      "text/plain": [
       "array(['L4_tcp', 'L4_udp', 'L7_http', 'L7_https', 'port_class_src',\n",
       "       'port_class_dst', 'pck_size', 'ethernet_frame_size', 'ttl',\n",
       "       'total_length', 'protocol', 'DNS_count', 'NTP_count', 'ARP_count',\n",
       "       'cnt', 'L3_ip_dst_count', 'most_freq_prot', 'sum_et', 'min_et',\n",
       "       'max_et', 'med_et', 'average_et', 'skew_et', 'kurt_et', 'var',\n",
       "       'q3', 'q1', 'iqr', 'sum_e', 'min_e', 'max_e', 'med', 'average',\n",
       "       'skew_e', 'kurt_e', 'var_e', 'q3_e', 'q1_e', 'iqr_e',\n",
       "       'inter_arrival_time', 'time_since_previously_displayed_frame'],\n",
       "      dtype=object)"
      ]
     },
     "execution_count": 71,
     "metadata": {},
     "output_type": "execute_result"
    }
   ],
   "source": [
    "MLP.feature_names_in_"
   ]
  },
  {
   "cell_type": "code",
   "execution_count": 12,
   "id": "7fdc004e",
   "metadata": {},
   "outputs": [],
   "source": [
    "clf2 = MLPClassifier(hidden_layer_sizes=(100,75),\n",
    "                    activation='identity', \n",
    "                    solver='adam',\n",
    "                    learning_rate='adaptive',\n",
    "                    max_iter = 200,\n",
    "                    learning_rate_init=0.001)\n",
    "\n",
    "\n",
    "start = time.time()\n",
    "clf2.fit(X_train_scaled, y_train)\n",
    "stop = time.time()"
   ]
  },
  {
   "cell_type": "code",
   "execution_count": 13,
   "id": "459ba63d",
   "metadata": {},
   "outputs": [
    {
     "name": "stdout",
     "output_type": "stream",
     "text": [
      "MLP execution time:  13.29141902923584s\n",
      "Train accuracy :  0.984\n",
      "Test accuracy :  0.709\n"
     ]
    }
   ],
   "source": [
    "print(f'MLP execution time: {stop-start: }s')\n",
    "print(f'Train accuracy : {clf2.score(X_train_scaled, y_train): .3f}')\n",
    "print(f'Test accuracy : {clf2.score(X_test_scaled, y_test): .3f}')"
   ]
  },
  {
   "cell_type": "code",
   "execution_count": 10,
   "id": "94bf2a37",
   "metadata": {},
   "outputs": [
    {
     "data": {
      "image/png": "[encoded data removed]",
      "text/plain": [
       "<Figure size 500x500 with 1 Axes>"
      ]
     },
     "metadata": {},
     "output_type": "display_data"
    }
   ],
   "source": [
    "y_pred = clf2.predict(X_test_scaled)\n",
    "cm = metrics.confusion_matrix(y_test, y_pred)\n",
    "\n",
    "class_names = ['AUDIO', 'CAMERA', 'HOME AUTOMATION']\n",
    "\n",
    "sns.heatmap(cm, annot = True, fmt = '0.0f', linewidth=0.5, xticklabels=class_names, \n",
    "            yticklabels=class_names, square = True, cmap='Blues', cbar = False)\n",
    "\n",
    "fig = plt.gcf()\n",
    "fig.set_size_inches(5, 5)\n",
    "\n",
    "plt.ylabel('Valores Reales')\n",
    "plt.xlabel('Valores Predichos')\n",
    "plt.show()"
   ]
  },
  {
   "cell_type": "code",
   "execution_count": 11,
   "id": "a7ecf996",
   "metadata": {},
   "outputs": [
    {
     "name": "stdout",
     "output_type": "stream",
     "text": [
      "                 precision    recall  f1-score   support\n",
      "\n",
      "          AUDIO       0.76      0.99      0.86      3262\n",
      "         CAMERA       0.85      0.66      0.74      3401\n",
      "HOME AUTOMATION       0.59      0.55      0.57      3056\n",
      "\n",
      "       accuracy                           0.74      9719\n",
      "      macro avg       0.73      0.73      0.72      9719\n",
      "   weighted avg       0.74      0.74      0.73      9719\n",
      "\n"
     ]
    }
   ],
   "source": [
    "print(metrics.classification_report(y_test, y_pred))"
   ]
  },
  {
   "cell_type": "code",
   "execution_count": null,
   "id": "1ac7813d",
   "metadata": {},
   "outputs": [],
   "source": []
  }
 ],
 "metadata": {
  "kernelspec": {
   "display_name": "Python 3 (ipykernel)",
   "language": "python",
   "name": "python3"
  },
  "language_info": {
   "codemirror_mode": {
    "name": "ipython",
    "version": 3
   },
   "file_extension": ".py",
   "mimetype": "text/x-python",
   "name": "python",
   "nbconvert_exporter": "python",
   "pygments_lexer": "ipython3",
   "version": "3.9.13"
  }
 },
 "nbformat": 4,
 "nbformat_minor": 5
}
