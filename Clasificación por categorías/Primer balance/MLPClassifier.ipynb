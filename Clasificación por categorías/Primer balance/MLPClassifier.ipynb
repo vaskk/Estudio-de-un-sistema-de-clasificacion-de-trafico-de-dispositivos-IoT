{
 "cells": [
  {
   "cell_type": "code",
   "execution_count": 1,
   "id": "81d04966",
   "metadata": {},
   "outputs": [],
   "source": [
    "import pandas as pd\n",
    "import numpy as np\n",
    "import time \n",
    "\n",
    "from sklearn.model_selection import GridSearchCV\n",
    "from sklearn.model_selection import RandomizedSearchCV\n",
    "from sklearn.neural_network import MLPClassifier\n",
    "\n",
    "from sklearn import metrics\n",
    "import matplotlib.pyplot as plt\n",
    "import seaborn as sns\n",
    "from sklearn import preprocessing\n",
    "import shap"
   ]
  },
  {
   "cell_type": "code",
   "execution_count": 2,
   "id": "794a42d1",
   "metadata": {},
   "outputs": [],
   "source": [
    "train = pd.read_parquet('train.parquet')\n",
    "test = pd.read_parquet('test.parquet')"
   ]
  },
  {
   "cell_type": "code",
   "execution_count": 3,
   "id": "6604d365",
   "metadata": {},
   "outputs": [],
   "source": [
    "#Eliminamos las siguientes columnas, ya que de momento no las vamos a usar\n",
    "train = train.drop(columns = ['device','interaction_type','command'])\n",
    "#Eliminamos las siguientes columnas, ya que de momento no las vamos a usar\n",
    "test = test.drop(columns = ['device','interaction_type','command'])"
   ]
  },
  {
   "cell_type": "code",
   "execution_count": 4,
   "id": "b8dbc5e5",
   "metadata": {},
   "outputs": [],
   "source": [
    "x_train, y_train = train.drop(columns=['global_category']), train['global_category']\n",
    "x_test, y_test = test.drop(columns=['global_category']), test['global_category']"
   ]
  },
  {
   "cell_type": "code",
   "execution_count": 5,
   "id": "008afd49",
   "metadata": {},
   "outputs": [],
   "source": [
    "from sklearn.model_selection import ShuffleSplit\n",
    "\n",
    "#Para no usar cross validation(Tarda mucho y ofrece peores resultados)\n",
    "cv = ShuffleSplit(n_splits=1, test_size=0.2, random_state=1)"
   ]
  },
  {
   "cell_type": "markdown",
   "id": "323b3cdc",
   "metadata": {},
   "source": [
    "## Sin Hiperparámetros:"
   ]
  },
  {
   "cell_type": "code",
   "execution_count": 23,
   "id": "5ff1ea56",
   "metadata": {},
   "outputs": [],
   "source": [
    "MLP = MLPClassifier(random_state=6) #Instanciamos\n",
    "\n",
    "start = time.time()\n",
    "MLP.fit(x_train, y_train)\n",
    "stop = time.time()\n",
    "\n",
    "#Guardamos la predicción de MLP\n",
    "y_pred_MLP = MLP.predict(x_test)\n",
    "\n",
    "#Matriz de confusión\n",
    "cm_MLP = metrics.confusion_matrix(y_test, y_pred_MLP)"
   ]
  },
  {
   "cell_type": "code",
   "execution_count": 7,
   "id": "8f3947a1",
   "metadata": {},
   "outputs": [
    {
     "data": {
      "image/png": "[encoded data removed]",
      "text/plain": [
       "<Figure size 300x300 with 1 Axes>"
      ]
     },
     "metadata": {},
     "output_type": "display_data"
    }
   ],
   "source": [
    "plt.figure(figsize=(3,3))\n",
    "sns.heatmap(cm_MLP, annot = True, fmt = '0.1f', linewidth=0.5, \n",
    "            square = True, cbar = False)\n",
    "plt.ylabel('Valores Reales')\n",
    "plt.xlabel('Valores Predichos')\n",
    "plt.show()"
   ]
  },
  {
   "cell_type": "code",
   "execution_count": 8,
   "id": "b8c223c3",
   "metadata": {},
   "outputs": [
    {
     "name": "stdout",
     "output_type": "stream",
     "text": [
      "Reporte del clasificador MLP: \n",
      " MLPClassifier(random_state=5)\n",
      "                  precision    recall  f1-score   support\n",
      "\n",
      "          AUDIO       0.64      0.86      0.74      3262\n",
      "         CAMERA       0.01      0.00      0.00      3401\n",
      "HOME AUTOMATION       0.41      0.69      0.51      3056\n",
      "\n",
      "       accuracy                           0.51      9719\n",
      "      macro avg       0.35      0.52      0.42      9719\n",
      "   weighted avg       0.35      0.51      0.41      9719\n",
      "\n",
      "\n"
     ]
    }
   ],
   "source": [
    "print(\"Reporte del clasificador MLP: \\n %s\\n %s\\n\"\n",
    "     %(MLP, metrics.classification_report(y_test, y_pred_MLP)))"
   ]
  },
  {
   "cell_type": "code",
   "execution_count": 24,
   "id": "0cd87c2c",
   "metadata": {},
   "outputs": [
    {
     "name": "stdout",
     "output_type": "stream",
     "text": [
      "MLP training time: 17.788689136505127s\n",
      "Train accuracy :  1.000\n",
      "Test accuracy :  0.623\n"
     ]
    }
   ],
   "source": [
    "print(f\"MLP training time: {stop - start}s\")\n",
    "print(f'Train accuracy : {MLP.score(x_train, y_train): .3f}')\n",
    "print(f'Test accuracy : {MLP.score(x_test, y_test): .3f}')"
   ]
  },
  {
   "cell_type": "markdown",
   "id": "947271e5",
   "metadata": {},
   "source": [
    "## Con Hiperparámetros:"
   ]
  },
  {
   "cell_type": "markdown",
   "id": "fde964ce",
   "metadata": {},
   "source": [
    "### Primera búsqueda:"
   ]
  },
  {
   "cell_type": "code",
   "execution_count": 24,
   "id": "e2a4ad1f",
   "metadata": {},
   "outputs": [
    {
     "name": "stdout",
     "output_type": "stream",
     "text": [
      "Fitting 1 folds for each of 10 candidates, totalling 10 fits\n",
      "[CV] END activation=tanh, hidden_layer_sizes=5, learning_rate=adaptive, solver=adam; total time=   1.9s\n",
      "[CV] END activation=relu, hidden_layer_sizes=5, learning_rate=adaptive, solver=sgd; total time=   3.6s\n",
      "[CV] END activation=tanh, hidden_layer_sizes=5, learning_rate=constant, solver=adam; total time=   1.8s\n",
      "[CV] END activation=logistic, hidden_layer_sizes=5, learning_rate=constant, solver=sgd; total time=   3.4s\n",
      "[CV] END activation=tanh, hidden_layer_sizes=5, learning_rate=adaptive, solver=sgd; total time=   4.5s\n"
     ]
    },
    {
     "name": "stderr",
     "output_type": "stream",
     "text": [
      "overflow encountered in matmul\n",
      "overflow encountered in subtract\n",
      "invalid value encountered in subtract\n",
      "Stochastic Optimizer: Maximum iterations (200) reached and the optimization hasn't converged yet.\n"
     ]
    },
    {
     "name": "stdout",
     "output_type": "stream",
     "text": [
      "[CV] END activation=identity, hidden_layer_sizes=5, learning_rate=adaptive, solver=sgd; total time=  10.7s\n",
      "[CV] END activation=identity, hidden_layer_sizes=5, learning_rate=adaptive, solver=adam; total time=   2.9s\n"
     ]
    },
    {
     "name": "stderr",
     "output_type": "stream",
     "text": [
      "overflow encountered in matmul\n",
      "overflow encountered in subtract\n",
      "invalid value encountered in subtract\n",
      "Stochastic Optimizer: Maximum iterations (200) reached and the optimization hasn't converged yet.\n"
     ]
    },
    {
     "name": "stdout",
     "output_type": "stream",
     "text": [
      "[CV] END activation=identity, hidden_layer_sizes=5, learning_rate=invscaling, solver=sgd; total time=  10.6s\n",
      "[CV] END activation=logistic, hidden_layer_sizes=5, learning_rate=constant, solver=adam; total time=   1.9s\n",
      "[CV] END activation=identity, hidden_layer_sizes=5, learning_rate=constant, solver=adam; total time=   2.8s\n"
     ]
    }
   ],
   "source": [
    "param_grid1 = {'hidden_layer_sizes': [5], \n",
    "              'activation': ['identity', 'logistic', 'tanh', 'relu'],\n",
    "              'solver': ['sgd', 'adam'],\n",
    "              'learning_rate': ['constant', 'invscaling', 'adaptive']}\n",
    "\n",
    "MLP_RandomGrid = RandomizedSearchCV(estimator = MLP,\n",
    "                                    param_distributions = param_grid5, \n",
    "                                    cv = cv, verbose=2)\n",
    "\n",
    "start = time.time()\n",
    "MLP_RandomGrid.fit(x_train, y_train)\n",
    "stop = time.time()"
   ]
  },
  {
   "cell_type": "code",
   "execution_count": 25,
   "id": "86f1c6b3",
   "metadata": {},
   "outputs": [
    {
     "name": "stdout",
     "output_type": "stream",
     "text": [
      "Score:  0.8421052631578947\n",
      "Parameters:  {'solver': 'adam', 'learning_rate': 'adaptive', 'hidden_layer_sizes': 5, 'activation': 'identity'}\n"
     ]
    }
   ],
   "source": [
    "print('Score: ', MLP_RandomGrid.best_score_)\n",
    "print('Parameters: ', MLP_RandomGrid.best_params_)"
   ]
  },
  {
   "cell_type": "markdown",
   "id": "2aabb083",
   "metadata": {},
   "source": [
    "### Segunda búsqueda:"
   ]
  },
  {
   "cell_type": "code",
   "execution_count": 27,
   "id": "19f90eb3",
   "metadata": {},
   "outputs": [
    {
     "name": "stdout",
     "output_type": "stream",
     "text": [
      "Fitting 1 folds for each of 10 candidates, totalling 10 fits\n",
      "[CV] END activation=identity, hidden_layer_sizes=(5, 10), learning_rate=adaptive, max_iter=696, random_state=7, solver=adam; total time=   2.4s\n",
      "[CV] END activation=identity, hidden_layer_sizes=10, learning_rate=adaptive, max_iter=655, random_state=10, solver=adam; total time=   6.0s\n",
      "[CV] END activation=identity, hidden_layer_sizes=15, learning_rate=adaptive, max_iter=324, random_state=2, solver=adam; total time=   3.6s\n",
      "[CV] END activation=identity, hidden_layer_sizes=(5, 5), learning_rate=adaptive, max_iter=655, random_state=4, solver=adam; total time=   4.4s\n",
      "[CV] END activation=identity, hidden_layer_sizes=(5, 5), learning_rate=adaptive, max_iter=510, random_state=4, solver=adam; total time=   4.4s\n",
      "[CV] END activation=identity, hidden_layer_sizes=(5, 10), learning_rate=adaptive, max_iter=220, random_state=4, solver=adam; total time=   5.9s\n",
      "[CV] END activation=identity, hidden_layer_sizes=5, learning_rate=adaptive, max_iter=324, random_state=19, solver=adam; total time=   2.5s\n",
      "[CV] END activation=identity, hidden_layer_sizes=(5, 10), learning_rate=adaptive, max_iter=386, random_state=2, solver=adam; total time=   5.5s\n",
      "[CV] END activation=identity, hidden_layer_sizes=(5, 5), learning_rate=adaptive, max_iter=468, random_state=14, solver=adam; total time=   4.6s\n",
      "[CV] END activation=identity, hidden_layer_sizes=10, learning_rate=adaptive, max_iter=696, random_state=5, solver=adam; total time=   5.2s\n"
     ]
    }
   ],
   "source": [
    "param_grid2 = {'hidden_layer_sizes': [5, 10, 15, (5,5), (5,10)], \n",
    "              'activation': ['identity'],\n",
    "              'solver': ['adam'],\n",
    "              'learning_rate': ['adaptive'],\n",
    "              'random_state' : [int(x) for x in np.linspace(start=1, stop=20, num=20)],\n",
    "              'max_iter': [int(x) for x in np.linspace(start=200, stop=800, num=30)]}\n",
    "\n",
    "MLP_RandomGrid2 = RandomizedSearchCV(estimator = MLP,\n",
    "                                    param_distributions = param_grid2, \n",
    "                                    cv = cv, verbose=2)\n",
    "\n",
    "start = time.time()\n",
    "MLP_RandomGrid2.fit(x_train, y_train)\n",
    "stop = time.time()"
   ]
  },
  {
   "cell_type": "code",
   "execution_count": 29,
   "id": "43144035",
   "metadata": {},
   "outputs": [
    {
     "name": "stdout",
     "output_type": "stream",
     "text": [
      "Score:  0.8430472153538208\n",
      "Parameters:  {'solver': 'adam', 'random_state': 2, 'max_iter': 324, 'learning_rate': 'adaptive', 'hidden_layer_sizes': 15, 'activation': 'identity'}\n"
     ]
    }
   ],
   "source": [
    "print('Score: ', MLP_RandomGrid2.best_score_)\n",
    "print('Parameters: ', MLP_RandomGrid2.best_params_)"
   ]
  },
  {
   "cell_type": "markdown",
   "id": "915f9d8c",
   "metadata": {},
   "source": [
    "### Configuramos la Red neuronal"
   ]
  },
  {
   "cell_type": "code",
   "execution_count": 145,
   "id": "c6e33e89",
   "metadata": {},
   "outputs": [],
   "source": [
    "MLP2 = MLPClassifier(hidden_layer_sizes=15,\n",
    "                    activation='identity', \n",
    "                    solver='adam',\n",
    "                    learning_rate='adaptive',\n",
    "                    random_state=8, \n",
    "                    max_iter = 500)\n",
    "\n",
    "#8 -> 0.702 0.658\n",
    "\n",
    "\n",
    "start = time.time()\n",
    "MLP2.fit(x_train, y_train)\n",
    "stop = time.time()"
   ]
  },
  {
   "cell_type": "code",
   "execution_count": 146,
   "id": "7f893f8c",
   "metadata": {},
   "outputs": [
    {
     "name": "stdout",
     "output_type": "stream",
     "text": [
      "MLP training time: 6.389750719070435s\n",
      "Train accuracy :  0.702\n",
      "Test accuracy :  0.658\n"
     ]
    }
   ],
   "source": [
    "print(f\"MLP training time: {stop - start}s\")\n",
    "print(f'Train accuracy : {MLP2.score(x_train, y_train): .3f}')\n",
    "print(f'Test accuracy : {MLP2.score(x_test, y_test): .3f}')"
   ]
  },
  {
   "cell_type": "markdown",
   "id": "ba36197b",
   "metadata": {},
   "source": [
    "## Matriz de confusión:"
   ]
  },
  {
   "cell_type": "code",
   "execution_count": 147,
   "id": "e0b8f43f",
   "metadata": {},
   "outputs": [
    {
     "data": {
      "image/png": "[encoded data removed]",
      "text/plain": [
       "<Figure size 300x300 with 1 Axes>"
      ]
     },
     "metadata": {},
     "output_type": "display_data"
    }
   ],
   "source": [
    "#Guardamos la predicción de MLP\n",
    "y_pred_MLP2 = MLP2.predict(x_test)\n",
    "cm = metrics.confusion_matrix(y_test, y_pred_MLP2)\n",
    "\n",
    "plt.figure(figsize=(3,3))\n",
    "sns.heatmap(cm, annot = True, fmt = '0.1f', linewidth=0.5, \n",
    "            square = True, cbar = False)\n",
    "plt.ylabel('Valores Reales')\n",
    "plt.xlabel('Valores Predichos')\n",
    "plt.show()"
   ]
  },
  {
   "cell_type": "code",
   "execution_count": 148,
   "id": "7e0f3c29",
   "metadata": {},
   "outputs": [
    {
     "name": "stdout",
     "output_type": "stream",
     "text": [
      "Reporte del clasificador MLP: \n",
      " MLPClassifier(activation='identity', hidden_layer_sizes=15,\n",
      "              learning_rate='adaptive', max_iter=500, random_state=8)\n",
      "                  precision    recall  f1-score   support\n",
      "\n",
      "          AUDIO       0.62      0.68      0.65      3262\n",
      "         CAMERA       0.67      0.99      0.80      3401\n",
      "HOME AUTOMATION       0.71      0.26      0.38      3056\n",
      "\n",
      "       accuracy                           0.66      9719\n",
      "      macro avg       0.67      0.65      0.61      9719\n",
      "   weighted avg       0.67      0.66      0.62      9719\n",
      "\n",
      "\n"
     ]
    }
   ],
   "source": [
    "print(\"Reporte del clasificador MLP: \\n %s\\n %s\\n\"\n",
    "     %(MLP2, metrics.classification_report(y_test, y_pred_MLP2)))"
   ]
  }
 ],
 "metadata": {
  "kernelspec": {
   "display_name": "Python 3 (ipykernel)",
   "language": "python",
   "name": "python3"
  },
  "language_info": {
   "codemirror_mode": {
    "name": "ipython",
    "version": 3
   },
   "file_extension": ".py",
   "mimetype": "text/x-python",
   "name": "python",
   "nbconvert_exporter": "python",
   "pygments_lexer": "ipython3",
   "version": "3.9.13"
  }
 },
 "nbformat": 4,
 "nbformat_minor": 5
}
