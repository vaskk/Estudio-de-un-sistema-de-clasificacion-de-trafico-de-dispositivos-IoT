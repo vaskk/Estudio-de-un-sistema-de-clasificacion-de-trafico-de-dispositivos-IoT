{
 "cells": [
  {
   "cell_type": "code",
   "execution_count": 1,
   "id": "2c3538f2",
   "metadata": {},
   "outputs": [],
   "source": [
    "import pandas as pd\n",
    "import numpy as np\n",
    "import time \n",
    "\n",
    "from sklearn.ensemble import RandomForestClassifier\n",
    "from sklearn.model_selection import GridSearchCV\n",
    "from sklearn.model_selection import RandomizedSearchCV\n",
    "from sklearn.tree import DecisionTreeClassifier\n",
    "from sklearn.neural_network import MLPClassifier\n",
    "\n",
    "\n",
    "from sklearn import metrics\n",
    "from sklearn.metrics import precision_score\n",
    "from sklearn.metrics import accuracy_score\n",
    "import matplotlib.pyplot as plt\n",
    "from sklearn import tree\n",
    "import seaborn as sns\n",
    "import shap\n",
    "from sklearn.model_selection import ShuffleSplit"
   ]
  },
  {
   "cell_type": "code",
   "execution_count": 2,
   "id": "8b5f96e6",
   "metadata": {},
   "outputs": [],
   "source": [
    "train = pd.read_parquet('train.parquet')\n",
    "test = pd.read_parquet('test.parquet')"
   ]
  },
  {
   "cell_type": "code",
   "execution_count": 3,
   "id": "116043eb",
   "metadata": {},
   "outputs": [
    {
     "data": {
      "text/plain": [
       "CAMERA             3401\n",
       "AUDIO              3262\n",
       "HOME AUTOMATION    3056\n",
       "Name: global_category, dtype: int64"
      ]
     },
     "execution_count": 3,
     "metadata": {},
     "output_type": "execute_result"
    }
   ],
   "source": [
    "test.global_category.value_counts()"
   ]
  },
  {
   "cell_type": "code",
   "execution_count": 4,
   "id": "372e6e9c",
   "metadata": {},
   "outputs": [
    {
     "data": {
      "text/plain": [
       "HOME AUTOMATION    14275\n",
       "AUDIO              14258\n",
       "CAMERA             13932\n",
       "Name: global_category, dtype: int64"
      ]
     },
     "execution_count": 4,
     "metadata": {},
     "output_type": "execute_result"
    }
   ],
   "source": [
    "train.global_category.value_counts()"
   ]
  },
  {
   "cell_type": "code",
   "execution_count": 5,
   "id": "c456ccae",
   "metadata": {},
   "outputs": [],
   "source": [
    "#Eliminamos las siguientes columnas, ya que de momento no las vamos a usar\n",
    "train = train.drop(columns = ['device','interaction_type','command'])\n",
    "#Eliminamos las siguientes columnas, ya que de momento no las vamos a usar\n",
    "test = test.drop(columns = ['device','interaction_type','command'])"
   ]
  },
  {
   "cell_type": "code",
   "execution_count": 6,
   "id": "870e3808",
   "metadata": {},
   "outputs": [],
   "source": [
    "x_train, y_train = train.drop(columns=['global_category']), train['global_category']\n",
    "x_test, y_test = test.drop(columns=['global_category']), test['global_category']"
   ]
  },
  {
   "cell_type": "code",
   "execution_count": 7,
   "id": "aa33e636",
   "metadata": {},
   "outputs": [
    {
     "name": "stdout",
     "output_type": "stream",
     "text": [
      "X_train : (42465, 41)\n",
      "y_train : (42465,)\n",
      "X_test : (9719, 41)\n",
      "y_test : (9719,)\n"
     ]
    }
   ],
   "source": [
    "#Filas y columnas de cada conjunto:\n",
    "print(f'X_train : {x_train.shape}')\n",
    "print(f'y_train : {y_train.shape}')\n",
    "print(f'X_test : {x_test.shape}')\n",
    "print(f'y_test : {y_test.shape}')"
   ]
  },
  {
   "cell_type": "code",
   "execution_count": null,
   "id": "51411b78",
   "metadata": {},
   "outputs": [],
   "source": [
    "#Para no usar cross validation(Tarda mucho y ofrece peores resultados)\n",
    "cv = ShuffleSplit(n_splits=1, test_size=0.2, random_state=1)"
   ]
  },
  {
   "cell_type": "markdown",
   "id": "d30542f4",
   "metadata": {},
   "source": [
    "# RANDOM FOREST"
   ]
  },
  {
   "cell_type": "markdown",
   "id": "d79cbe5a",
   "metadata": {},
   "source": [
    "## Sin hiperparámetros:"
   ]
  },
  {
   "cell_type": "code",
   "execution_count": 8,
   "id": "42ce20e1",
   "metadata": {},
   "outputs": [],
   "source": [
    "RF_model = RandomForestClassifier()"
   ]
  },
  {
   "cell_type": "code",
   "execution_count": 56,
   "id": "f07518ae",
   "metadata": {},
   "outputs": [],
   "source": [
    "start = time.time()\n",
    "RF_model.fit(x_train, y_train)\n",
    "stop = time.time()"
   ]
  },
  {
   "cell_type": "code",
   "execution_count": 57,
   "id": "7542fc76",
   "metadata": {},
   "outputs": [
    {
     "name": "stdout",
     "output_type": "stream",
     "text": [
      "RF Execution time: 5.207667350769043s\n",
      "Train accuracy :  1.000\n",
      "Test accuracy :  0.535\n"
     ]
    }
   ],
   "source": [
    "print(f\"RF Execution time: {stop - start}s\")\n",
    "print(f'Train accuracy : {RF_model.score(x_train, y_train): .3f}')\n",
    "print(f'Test accuracy : {RF_model.score(x_test, y_test): .3f}')"
   ]
  },
  {
   "cell_type": "markdown",
   "id": "ce95f69b",
   "metadata": {},
   "source": [
    "# Eligiendo hiperparámetros mediante GridSearchCV: (TARDA MUCHO)"
   ]
  },
  {
   "cell_type": "code",
   "execution_count": 27,
   "id": "004f48e1",
   "metadata": {},
   "outputs": [],
   "source": [
    "# Número de árboles\n",
    "n_estimators = [int(x) for x in np.linspace(start=1, stop=150, num=15)]\n",
    "# Criterio de creación de los árboles. Es la función que mide la calidad de las particiones.\n",
    "criterion = [\"gini\", \"entropy\"]\n",
    "# Número de características a tener en cuenta para cada árbol.\n",
    "max_features = ['auto', 'sqrt', 'log2', None]\n",
    "# Mínimo número de muestras que se requieren para dividir un nodo.\n",
    "min_samples_split = [int(x) for x in np.linspace(start=1, stop=10, num=10)]\n",
    "# Mínimo número de muestras que se requieren en cada hoja.\n",
    "min_samples_leaf = [int(x) for x in np.linspace(start=1, stop=10, num=10)]\n",
    "#Número de niveles de los árboles\n",
    "max_depth = [int(x) for x in np.linspace(start=1, stop=10, num=10)]\n",
    "\n",
    "# True -> Muestreo Aleatorio\n",
    "# False -> Se utiliza el dataset entero para construir cada árbol\n",
    "bootstrap = [True, False]\n",
    "# (Out of the bag) Datos que NO vamos a usar para el muestreo. Al activar esto, se usarán dichos datos para testear los árboles\n",
    "# Solo disponible si bootstrap es True\n",
    "oob_score = [True, False]\n",
    "# True -> Reutiliza la solución de la llamada anterior para el fit y para agrefar más estimadores al conjunto.\n",
    "# False -> Realiza un bosque completamente nuevo.\n",
    "warm_start = [True, False]\n",
    "max_depth = [int(x) for x in np.linspace(start=1, stop=10, num=10)]"
   ]
  },
  {
   "cell_type": "code",
   "execution_count": 51,
   "id": "d57b3f18",
   "metadata": {},
   "outputs": [
    {
     "name": "stdout",
     "output_type": "stream",
     "text": [
      "{'n_estimators': [1, 11, 22, 32, 43, 54, 64, 75, 86, 96, 107, 118, 128, 139, 150], 'criterion': ['gini', 'entropy'], 'max_features': ['auto', 'sqrt', 'log2', None], 'min_samples_split': [1, 2, 3, 4, 5, 6, 7, 8, 9, 10], 'min_samples_leaf': [1, 2, 3, 4, 5, 6, 7, 8, 9, 10], 'max_depth': [1, 2, 3, 4, 5, 6, 7, 8, 9, 10]}\n"
     ]
    }
   ],
   "source": [
    "param_grid = {'n_estimators': n_estimators,\n",
    "              'criterion': criterion,\n",
    "              'max_features': max_features,\n",
    "              'min_samples_split': min_samples_split,\n",
    "              'min_samples_leaf': min_samples_leaf,\n",
    "              #'bootstrap': bootstrap,\n",
    "              #'oob_score': oob_score,\n",
    "              #'warm_start': warm_start,\n",
    "              'max_depth': max_depth}\n",
    "\n",
    "print(param_grid)"
   ]
  },
  {
   "cell_type": "code",
   "execution_count": null,
   "id": "98c2d741",
   "metadata": {},
   "outputs": [],
   "source": [
    "RF_grid = GridSearchCV(estimator = RF_model, param_grid = param_grid, cv = cv, \n",
    "                       verbose=2, n_jobs = 4)"
   ]
  },
  {
   "cell_type": "code",
   "execution_count": null,
   "id": "473bce6f",
   "metadata": {},
   "outputs": [],
   "source": [
    "start = time.time()\n",
    "RF_grid.fit(x_train, y_train)\n",
    "stop = time.time()"
   ]
  },
  {
   "cell_type": "code",
   "execution_count": null,
   "id": "7d30368f",
   "metadata": {},
   "outputs": [],
   "source": [
    "RF_Grid.best_params_"
   ]
  },
  {
   "cell_type": "code",
   "execution_count": null,
   "id": "695af71f",
   "metadata": {},
   "outputs": [],
   "source": [
    "print(f\"GridSearchCV time: {stop - start}s\")\n",
    "print(f'Train accuracy : {RF_Gid.score(x_train, y_train): .3f}')\n",
    "print(f'Test accuracy : {RF_Grid.score(x_test, y_test): .3f}')"
   ]
  },
  {
   "cell_type": "markdown",
   "id": "c5d9c219",
   "metadata": {},
   "source": [
    "# Eligiendo hiperparámetros con RandomizedSearchCV:"
   ]
  },
  {
   "cell_type": "code",
   "execution_count": 63,
   "id": "945b0c69",
   "metadata": {},
   "outputs": [],
   "source": [
    "RF_RandomGrid = RandomizedSearchCV(estimator = RF_model,\n",
    "                                   param_distributions = param_grid,\n",
    "                                   cv = 5, verbose=2, n_jobs = 4)"
   ]
  },
  {
   "cell_type": "code",
   "execution_count": 64,
   "id": "144c3aa3",
   "metadata": {},
   "outputs": [
    {
     "name": "stdout",
     "output_type": "stream",
     "text": [
      "Fitting 5 folds for each of 10 candidates, totalling 50 fits\n"
     ]
    }
   ],
   "source": [
    "start = time.time()\n",
    "RF_RandomGrid.fit(x_train, y_train)\n",
    "stop = time.time()"
   ]
  },
  {
   "cell_type": "code",
   "execution_count": 65,
   "id": "cfcdb5ae",
   "metadata": {},
   "outputs": [
    {
     "data": {
      "text/plain": [
       "{'n_estimators': 32,\n",
       " 'min_samples_split': 7,\n",
       " 'min_samples_leaf': 3,\n",
       " 'max_features': None,\n",
       " 'max_depth': 8,\n",
       " 'criterion': 'entropy'}"
      ]
     },
     "execution_count": 65,
     "metadata": {},
     "output_type": "execute_result"
    }
   ],
   "source": [
    "RF_RandomGrid.best_params_"
   ]
  },
  {
   "cell_type": "code",
   "execution_count": 66,
   "id": "bc1cd742",
   "metadata": {},
   "outputs": [
    {
     "name": "stdout",
     "output_type": "stream",
     "text": [
      "RandomizedSearch RF time: 41.91151571273804s\n",
      "Train accuracy :  0.999\n",
      "Test accuracy :  0.789\n"
     ]
    }
   ],
   "source": [
    "print(f\"RandomizedSearch RF time: {stop - start}s\")\n",
    "print(f'Train accuracy : {RF_RandomGrid.score(x_train, y_train): .3f}')\n",
    "print(f'Test accuracy : {RF_RandomGrid.score(x_test, y_test): .3f}')"
   ]
  },
  {
   "cell_type": "code",
   "execution_count": 67,
   "id": "560a84bd",
   "metadata": {},
   "outputs": [],
   "source": [
    "RF_model4 = RandomForestClassifier(n_estimators=32,\n",
    "                                   criterion='entropy',\n",
    "                                   min_samples_split=7, \n",
    "                                   min_samples_leaf=3,\n",
    "                                   max_features=None,\n",
    "                                   max_depth = 8)\n",
    "#11\n",
    "start = time.time()\n",
    "RF_model4.fit(x_train, y_train)\n",
    "stop = time.time()"
   ]
  },
  {
   "cell_type": "code",
   "execution_count": 68,
   "id": "394f4e98",
   "metadata": {},
   "outputs": [
    {
     "name": "stdout",
     "output_type": "stream",
     "text": [
      "RF training time: 8.346778869628906s\n",
      "Train accuracy :  0.999\n",
      "Test accuracy :  0.789\n"
     ]
    }
   ],
   "source": [
    "print(f\"RF training time: {stop - start}s\")\n",
    "print(f'Train accuracy : {RF_model4.score(x_train, y_train): .3f}')\n",
    "print(f'Test accuracy : {RF_model4.score(x_test, y_test): .3f}')"
   ]
  },
  {
   "cell_type": "markdown",
   "id": "64119e6e",
   "metadata": {},
   "source": [
    "# Manual:"
   ]
  },
  {
   "cell_type": "code",
   "execution_count": 135,
   "id": "c1638b3f",
   "metadata": {},
   "outputs": [],
   "source": [
    "RF_model4 = RandomForestClassifier(n_estimators=32,\n",
    "                                   criterion='gini',\n",
    "                                   min_samples_split=7, \n",
    "                                   min_samples_leaf=3,\n",
    "                                   max_features=None,\n",
    "                                   max_depth = 5)\n",
    "#11\n",
    "start = time.time()\n",
    "RF_model4.fit(x_train, y_train)\n",
    "stop = time.time()"
   ]
  },
  {
   "cell_type": "code",
   "execution_count": 136,
   "id": "7d59e61f",
   "metadata": {},
   "outputs": [
    {
     "name": "stdout",
     "output_type": "stream",
     "text": [
      "RF training time: 5.5897300243377686s\n",
      "Train accuracy :  0.973\n",
      "Test accuracy :  0.812\n"
     ]
    }
   ],
   "source": [
    "print(f\"RF training time: {stop - start}s\")\n",
    "print(f'Train accuracy : {RF_model4.score(x_train, y_train): .3f}')\n",
    "print(f'Test accuracy : {RF_model4.score(x_test, y_test): .3f}')"
   ]
  },
  {
   "cell_type": "markdown",
   "id": "c89e4412",
   "metadata": {},
   "source": [
    "## Matriz de confusión:"
   ]
  },
  {
   "cell_type": "code",
   "execution_count": 25,
   "id": "09443bee",
   "metadata": {},
   "outputs": [
    {
     "data": {
      "image/png": "[encoded data removed]",
      "text/plain": [
       "<Figure size 500x500 with 1 Axes>"
      ]
     },
     "metadata": {},
     "output_type": "display_data"
    }
   ],
   "source": [
    "y_pred_RF1 = RF_model4.predict(x_test)\n",
    "cm = metrics.confusion_matrix(y_test, y_pred_RF1)\n",
    "class_names = ['AUDIO', 'CAMERA', 'HOME AUTOMATION']\n",
    "\n",
    "sns.heatmap(cm, annot = True, fmt = '0.0f', linewidth=0.5, xticklabels=class_names, \n",
    "            yticklabels=class_names, square = True, cmap='Blues', cbar = False)\n",
    "\n",
    "fig = plt.gcf()\n",
    "fig.set_size_inches(5, 5)\n",
    "\n",
    "plt.ylabel('Valores Reales')\n",
    "plt.xlabel('Valores Predichos')\n",
    "plt.show()"
   ]
  },
  {
   "cell_type": "raw",
   "id": "997e4394",
   "metadata": {},
   "source": [
    "-Precision = TP/TP+TN\n",
    "-Recall = TP/TP+FN\n",
    "-F1 Score = 2*((Precision*Recall)/(Precision+Recall))\n",
    "\n",
    "-macro avg -> Media aritmética\n",
    "-Weighted avg -> Considera el número de muestras que hay en cada etiqueta."
   ]
  },
  {
   "cell_type": "code",
   "execution_count": 26,
   "id": "d07f6b2f",
   "metadata": {},
   "outputs": [
    {
     "name": "stdout",
     "output_type": "stream",
     "text": [
      "                 precision    recall  f1-score   support\n",
      "\n",
      "          AUDIO       0.63      1.00      0.77      3262\n",
      "         CAMERA       0.97      0.37      0.54      3401\n",
      "HOME AUTOMATION       0.33      0.35      0.34      3056\n",
      "\n",
      "       accuracy                           0.58      9719\n",
      "      macro avg       0.64      0.57      0.55      9719\n",
      "   weighted avg       0.66      0.58      0.55      9719\n",
      "\n"
     ]
    }
   ],
   "source": [
    "print(metrics.classification_report(y_test, y_pred_RF1))"
   ]
  },
  {
   "cell_type": "markdown",
   "id": "e6f6af26",
   "metadata": {},
   "source": [
    "# DECISION TREE"
   ]
  },
  {
   "cell_type": "markdown",
   "id": "fffceb4c",
   "metadata": {},
   "source": [
    "## Sin hiperparámetros"
   ]
  },
  {
   "cell_type": "code",
   "execution_count": 8,
   "id": "02115e04",
   "metadata": {},
   "outputs": [],
   "source": [
    "dt = DecisionTreeClassifier() #Instanciamos\n",
    "\n",
    "start = time.time()\n",
    "dt.fit(x_train, y_train)\n",
    "stop = time.time()"
   ]
  },
  {
   "cell_type": "code",
   "execution_count": 105,
   "id": "9290f961",
   "metadata": {},
   "outputs": [
    {
     "name": "stdout",
     "output_type": "stream",
     "text": [
      "Training time: 0.4883086681365967s\n",
      "Train accuracy :  1.000\n",
      "Test accuracy :  0.820\n"
     ]
    }
   ],
   "source": [
    "print(f\"Training time: {stop - start}s\")\n",
    "print(f'Train accuracy : {dt.score(x_train, y_train): .3f}')\n",
    "print(f'Test accuracy : {dt.score(x_test, y_test): .3f}')"
   ]
  },
  {
   "cell_type": "code",
   "execution_count": 14,
   "id": "98beb1db",
   "metadata": {},
   "outputs": [],
   "source": [
    "y_pred_DT1 = dt.predict(x_test)"
   ]
  },
  {
   "cell_type": "code",
   "execution_count": 15,
   "id": "14b408da",
   "metadata": {},
   "outputs": [
    {
     "data": {
      "text/plain": [
       "0.8211750180059677"
      ]
     },
     "execution_count": 15,
     "metadata": {},
     "output_type": "execute_result"
    }
   ],
   "source": [
    "accuracy_score(y_test, y_pred_DT1)"
   ]
  },
  {
   "cell_type": "code",
   "execution_count": 16,
   "id": "a1d65d9e",
   "metadata": {},
   "outputs": [
    {
     "data": {
      "text/plain": [
       "{'ccp_alpha': 0.0,\n",
       " 'class_weight': None,\n",
       " 'criterion': 'gini',\n",
       " 'max_depth': None,\n",
       " 'max_features': None,\n",
       " 'max_leaf_nodes': None,\n",
       " 'min_impurity_decrease': 0.0,\n",
       " 'min_samples_leaf': 1,\n",
       " 'min_samples_split': 2,\n",
       " 'min_weight_fraction_leaf': 0.0,\n",
       " 'random_state': None,\n",
       " 'splitter': 'best'}"
      ]
     },
     "execution_count": 16,
     "metadata": {},
     "output_type": "execute_result"
    }
   ],
   "source": [
    "#Sacamos los parámetros de este árbol, ya que nos ha salido con buena precisión.\n",
    "dt.get_params()"
   ]
  },
  {
   "cell_type": "markdown",
   "id": "98d0f8fe",
   "metadata": {},
   "source": [
    "## Introducimos los parámetros obtenidos manualmente:"
   ]
  },
  {
   "cell_type": "code",
   "execution_count": 27,
   "id": "91765c6d",
   "metadata": {},
   "outputs": [],
   "source": [
    "dt1 = DecisionTreeClassifier(criterion = 'gini', \n",
    "                             splitter='best',\n",
    "                             min_samples_split = 2, \n",
    "                             min_samples_leaf = 1,\n",
    "                             min_weight_fraction_leaf = 0.0,\n",
    "                             min_impurity_decrease = 0.0,\n",
    "                             class_weight = None,\n",
    "                             max_leaf_nodes = None,\n",
    "                             max_depth = 6,\n",
    "                             max_features = None,\n",
    "                             ccp_alpha = 0.0) #Instanciamos\n",
    "\n",
    "#24"
   ]
  },
  {
   "cell_type": "code",
   "execution_count": 28,
   "id": "72fb1296",
   "metadata": {},
   "outputs": [],
   "source": [
    "start = time.time()\n",
    "dt1.fit(x_train, y_train)\n",
    "stop = time.time()"
   ]
  },
  {
   "cell_type": "code",
   "execution_count": 29,
   "id": "291157d9",
   "metadata": {},
   "outputs": [
    {
     "name": "stdout",
     "output_type": "stream",
     "text": [
      "Training time: 0.43483734130859375s\n",
      "Train accuracy :  0.989\n",
      "Test accuracy :  0.835\n"
     ]
    }
   ],
   "source": [
    "print(f\"Training time: {stop - start}s\")\n",
    "print(f'Train accuracy : {dt1.score(x_train, y_train): .3f}')\n",
    "print(f'Test accuracy : {dt1.score(x_test, y_test): .3f}')"
   ]
  },
  {
   "cell_type": "markdown",
   "id": "0b180b53",
   "metadata": {},
   "source": [
    "## Matriz de confusión:"
   ]
  },
  {
   "cell_type": "code",
   "execution_count": 30,
   "id": "1fdaf84a",
   "metadata": {},
   "outputs": [],
   "source": [
    "y_pred_DT1 = dt1.predict(x_test)\n",
    "cm = metrics.confusion_matrix(y_test, y_pred_DT1)"
   ]
  },
  {
   "cell_type": "code",
   "execution_count": 40,
   "id": "8f7ff612",
   "metadata": {},
   "outputs": [
    {
     "data": {
      "image/png": "[encoded data removed]",
      "text/plain": [
       "<Figure size 300x300 with 1 Axes>"
      ]
     },
     "metadata": {},
     "output_type": "display_data"
    }
   ],
   "source": [
    "y_pred_DT1 = dt1.predict(x_test)\n",
    "cm = metrics.confusion_matrix(y_test, y_pred_DT1)\n",
    "class_names = ['AUDIO', 'VIDEO', 'AUTO']\n",
    "\n",
    "sns.heatmap(cm, annot = True, fmt = '0.0f', linewidth=0.5, xticklabels=class_names, \n",
    "            yticklabels=class_names, square = True, cmap='Blues', cbar = False)\n",
    "\n",
    "fig = plt.gcf()\n",
    "fig.set_size_inches(3, 3)\n",
    "\n",
    "plt.ylabel('Valores Reales')\n",
    "plt.xlabel('Valores Predichos')\n",
    "plt.show()"
   ]
  },
  {
   "cell_type": "code",
   "execution_count": 32,
   "id": "c1b2e235",
   "metadata": {},
   "outputs": [
    {
     "name": "stdout",
     "output_type": "stream",
     "text": [
      "                 precision    recall  f1-score   support\n",
      "\n",
      "          AUDIO       0.69      1.00      0.82      3262\n",
      "         CAMERA       0.97      0.99      0.98      3401\n",
      "HOME AUTOMATION       0.97      0.49      0.65      3056\n",
      "\n",
      "       accuracy                           0.83      9719\n",
      "      macro avg       0.88      0.83      0.82      9719\n",
      "   weighted avg       0.88      0.83      0.82      9719\n",
      "\n"
     ]
    }
   ],
   "source": [
    "print(metrics.classification_report(y_test, y_pred_DT1))"
   ]
  },
  {
   "cell_type": "code",
   "execution_count": 13,
   "id": "ec58adfd",
   "metadata": {},
   "outputs": [
    {
     "data": {
      "image/png": "[encoded data removed]",
      "text/plain": [
       "<Figure size 300x300 with 1 Axes>"
      ]
     },
     "metadata": {},
     "output_type": "display_data"
    }
   ],
   "source": [
    "plt.figure(figsize=(3,3))\n",
    "sns.heatmap(cm, annot = True, fmt = '0.1f', linewidth=0.5, \n",
    "            square = True, cbar = False)\n",
    "plt.ylabel('Valores Reales')\n",
    "plt.xlabel('Valores Predichos')\n",
    "plt.show()"
   ]
  },
  {
   "cell_type": "code",
   "execution_count": 25,
   "id": "a5904871",
   "metadata": {},
   "outputs": [
    {
     "data": {
      "text/plain": [
       "Index(['L4_tcp', 'L4_udp', 'L7_http', 'L7_https', 'port_class_src',\n",
       "       'port_class_dst', 'pck_size', 'ethernet_frame_size', 'ttl',\n",
       "       'total_length', 'protocol', 'DNS_count', 'NTP_count', 'ARP_count',\n",
       "       'cnt', 'L3_ip_dst_count', 'most_freq_prot', 'sum_et', 'min_et',\n",
       "       'max_et', 'med_et', 'average_et', 'skew_et', 'kurt_et', 'var', 'q3',\n",
       "       'q1', 'iqr', 'sum_e', 'min_e', 'max_e', 'med', 'average', 'skew_e',\n",
       "       'kurt_e', 'var_e', 'q3_e', 'q1_e', 'iqr_e', 'inter_arrival_time',\n",
       "       'time_since_previously_displayed_frame'],\n",
       "      dtype='object')"
      ]
     },
     "execution_count": 25,
     "metadata": {},
     "output_type": "execute_result"
    }
   ],
   "source": [
    "feature_names = x_train.columns\n",
    "feature_names"
   ]
  },
  {
   "cell_type": "code",
   "execution_count": 26,
   "id": "ca84508f",
   "metadata": {},
   "outputs": [
    {
     "data": {
      "text/plain": [
       "array([0.00000000e+00, 0.00000000e+00, 0.00000000e+00, 0.00000000e+00,\n",
       "       2.82347004e-02, 9.94461332e-03, 0.00000000e+00, 1.77895635e-03,\n",
       "       5.71503611e-02, 4.13851890e-04, 2.49378648e-01, 3.00057014e-01,\n",
       "       7.24500867e-05, 8.16444678e-04, 9.59241988e-03, 3.28348319e-01,\n",
       "       2.15741699e-03, 0.00000000e+00, 5.43417939e-03, 0.00000000e+00,\n",
       "       0.00000000e+00, 0.00000000e+00, 0.00000000e+00, 0.00000000e+00,\n",
       "       0.00000000e+00, 1.42625858e-04, 0.00000000e+00, 0.00000000e+00,\n",
       "       0.00000000e+00, 6.41998204e-03, 0.00000000e+00, 0.00000000e+00,\n",
       "       0.00000000e+00, 0.00000000e+00, 0.00000000e+00, 0.00000000e+00,\n",
       "       0.00000000e+00, 0.00000000e+00, 0.00000000e+00, 5.80172982e-05,\n",
       "       0.00000000e+00])"
      ]
     },
     "execution_count": 26,
     "metadata": {},
     "output_type": "execute_result"
    }
   ],
   "source": [
    "dt1.feature_importances_"
   ]
  },
  {
   "cell_type": "code",
   "execution_count": 27,
   "id": "7dfe95b0",
   "metadata": {},
   "outputs": [
    {
     "data": {
      "text/html": [
       "<div>\n",
       "<style scoped>\n",
       "    .dataframe tbody tr th:only-of-type {\n",
       "        vertical-align: middle;\n",
       "    }\n",
       "\n",
       "    .dataframe tbody tr th {\n",
       "        vertical-align: top;\n",
       "    }\n",
       "\n",
       "    .dataframe thead th {\n",
       "        text-align: right;\n",
       "    }\n",
       "</style>\n",
       "<table border=\"1\" class=\"dataframe\">\n",
       "  <thead>\n",
       "    <tr style=\"text-align: right;\">\n",
       "      <th></th>\n",
       "      <th>0</th>\n",
       "    </tr>\n",
       "  </thead>\n",
       "  <tbody>\n",
       "    <tr>\n",
       "      <th>L3_ip_dst_count</th>\n",
       "      <td>0.328348</td>\n",
       "    </tr>\n",
       "    <tr>\n",
       "      <th>DNS_count</th>\n",
       "      <td>0.300057</td>\n",
       "    </tr>\n",
       "    <tr>\n",
       "      <th>protocol</th>\n",
       "      <td>0.249379</td>\n",
       "    </tr>\n",
       "    <tr>\n",
       "      <th>ttl</th>\n",
       "      <td>0.057150</td>\n",
       "    </tr>\n",
       "    <tr>\n",
       "      <th>port_class_src</th>\n",
       "      <td>0.028235</td>\n",
       "    </tr>\n",
       "    <tr>\n",
       "      <th>port_class_dst</th>\n",
       "      <td>0.009945</td>\n",
       "    </tr>\n",
       "    <tr>\n",
       "      <th>cnt</th>\n",
       "      <td>0.009592</td>\n",
       "    </tr>\n",
       "    <tr>\n",
       "      <th>min_e</th>\n",
       "      <td>0.006420</td>\n",
       "    </tr>\n",
       "    <tr>\n",
       "      <th>min_et</th>\n",
       "      <td>0.005434</td>\n",
       "    </tr>\n",
       "    <tr>\n",
       "      <th>most_freq_prot</th>\n",
       "      <td>0.002157</td>\n",
       "    </tr>\n",
       "    <tr>\n",
       "      <th>ethernet_frame_size</th>\n",
       "      <td>0.001779</td>\n",
       "    </tr>\n",
       "    <tr>\n",
       "      <th>ARP_count</th>\n",
       "      <td>0.000816</td>\n",
       "    </tr>\n",
       "    <tr>\n",
       "      <th>total_length</th>\n",
       "      <td>0.000414</td>\n",
       "    </tr>\n",
       "    <tr>\n",
       "      <th>q3</th>\n",
       "      <td>0.000143</td>\n",
       "    </tr>\n",
       "    <tr>\n",
       "      <th>NTP_count</th>\n",
       "      <td>0.000072</td>\n",
       "    </tr>\n",
       "    <tr>\n",
       "      <th>inter_arrival_time</th>\n",
       "      <td>0.000058</td>\n",
       "    </tr>\n",
       "    <tr>\n",
       "      <th>sum_e</th>\n",
       "      <td>0.000000</td>\n",
       "    </tr>\n",
       "    <tr>\n",
       "      <th>q1_e</th>\n",
       "      <td>0.000000</td>\n",
       "    </tr>\n",
       "    <tr>\n",
       "      <th>iqr_e</th>\n",
       "      <td>0.000000</td>\n",
       "    </tr>\n",
       "    <tr>\n",
       "      <th>q3_e</th>\n",
       "      <td>0.000000</td>\n",
       "    </tr>\n",
       "    <tr>\n",
       "      <th>var_e</th>\n",
       "      <td>0.000000</td>\n",
       "    </tr>\n",
       "    <tr>\n",
       "      <th>kurt_e</th>\n",
       "      <td>0.000000</td>\n",
       "    </tr>\n",
       "    <tr>\n",
       "      <th>skew_e</th>\n",
       "      <td>0.000000</td>\n",
       "    </tr>\n",
       "    <tr>\n",
       "      <th>average</th>\n",
       "      <td>0.000000</td>\n",
       "    </tr>\n",
       "    <tr>\n",
       "      <th>med</th>\n",
       "      <td>0.000000</td>\n",
       "    </tr>\n",
       "    <tr>\n",
       "      <th>max_e</th>\n",
       "      <td>0.000000</td>\n",
       "    </tr>\n",
       "    <tr>\n",
       "      <th>L4_tcp</th>\n",
       "      <td>0.000000</td>\n",
       "    </tr>\n",
       "    <tr>\n",
       "      <th>med_et</th>\n",
       "      <td>0.000000</td>\n",
       "    </tr>\n",
       "    <tr>\n",
       "      <th>iqr</th>\n",
       "      <td>0.000000</td>\n",
       "    </tr>\n",
       "    <tr>\n",
       "      <th>q1</th>\n",
       "      <td>0.000000</td>\n",
       "    </tr>\n",
       "    <tr>\n",
       "      <th>var</th>\n",
       "      <td>0.000000</td>\n",
       "    </tr>\n",
       "    <tr>\n",
       "      <th>kurt_et</th>\n",
       "      <td>0.000000</td>\n",
       "    </tr>\n",
       "    <tr>\n",
       "      <th>skew_et</th>\n",
       "      <td>0.000000</td>\n",
       "    </tr>\n",
       "    <tr>\n",
       "      <th>average_et</th>\n",
       "      <td>0.000000</td>\n",
       "    </tr>\n",
       "    <tr>\n",
       "      <th>L4_udp</th>\n",
       "      <td>0.000000</td>\n",
       "    </tr>\n",
       "    <tr>\n",
       "      <th>max_et</th>\n",
       "      <td>0.000000</td>\n",
       "    </tr>\n",
       "    <tr>\n",
       "      <th>sum_et</th>\n",
       "      <td>0.000000</td>\n",
       "    </tr>\n",
       "    <tr>\n",
       "      <th>pck_size</th>\n",
       "      <td>0.000000</td>\n",
       "    </tr>\n",
       "    <tr>\n",
       "      <th>L7_https</th>\n",
       "      <td>0.000000</td>\n",
       "    </tr>\n",
       "    <tr>\n",
       "      <th>L7_http</th>\n",
       "      <td>0.000000</td>\n",
       "    </tr>\n",
       "    <tr>\n",
       "      <th>time_since_previously_displayed_frame</th>\n",
       "      <td>0.000000</td>\n",
       "    </tr>\n",
       "  </tbody>\n",
       "</table>\n",
       "</div>"
      ],
      "text/plain": [
       "                                              0\n",
       "L3_ip_dst_count                        0.328348\n",
       "DNS_count                              0.300057\n",
       "protocol                               0.249379\n",
       "ttl                                    0.057150\n",
       "port_class_src                         0.028235\n",
       "port_class_dst                         0.009945\n",
       "cnt                                    0.009592\n",
       "min_e                                  0.006420\n",
       "min_et                                 0.005434\n",
       "most_freq_prot                         0.002157\n",
       "ethernet_frame_size                    0.001779\n",
       "ARP_count                              0.000816\n",
       "total_length                           0.000414\n",
       "q3                                     0.000143\n",
       "NTP_count                              0.000072\n",
       "inter_arrival_time                     0.000058\n",
       "sum_e                                  0.000000\n",
       "q1_e                                   0.000000\n",
       "iqr_e                                  0.000000\n",
       "q3_e                                   0.000000\n",
       "var_e                                  0.000000\n",
       "kurt_e                                 0.000000\n",
       "skew_e                                 0.000000\n",
       "average                                0.000000\n",
       "med                                    0.000000\n",
       "max_e                                  0.000000\n",
       "L4_tcp                                 0.000000\n",
       "med_et                                 0.000000\n",
       "iqr                                    0.000000\n",
       "q1                                     0.000000\n",
       "var                                    0.000000\n",
       "kurt_et                                0.000000\n",
       "skew_et                                0.000000\n",
       "average_et                             0.000000\n",
       "L4_udp                                 0.000000\n",
       "max_et                                 0.000000\n",
       "sum_et                                 0.000000\n",
       "pck_size                               0.000000\n",
       "L7_https                               0.000000\n",
       "L7_http                                0.000000\n",
       "time_since_previously_displayed_frame  0.000000"
      ]
     },
     "execution_count": 27,
     "metadata": {},
     "output_type": "execute_result"
    }
   ],
   "source": [
    "feature_importances = pd.DataFrame(dt1.feature_importances_, index = feature_names).sort_values(0, ascending = False)\n",
    "feature_importances"
   ]
  },
  {
   "cell_type": "code",
   "execution_count": 28,
   "id": "22cfbd60",
   "metadata": {},
   "outputs": [
    {
     "data": {
      "text/plain": [
       "<AxesSubplot:>"
      ]
     },
     "execution_count": 28,
     "metadata": {},
     "output_type": "execute_result"
    },
    {
     "data": {
      "image/png": "[encoded data removed]",
      "text/plain": [
       "<Figure size 640x480 with 1 Axes>"
      ]
     },
     "metadata": {},
     "output_type": "display_data"
    }
   ],
   "source": [
    "feature_importances.head(25).plot(kind='bar')"
   ]
  },
  {
   "cell_type": "code",
   "execution_count": null,
   "id": "ff41e5ae",
   "metadata": {},
   "outputs": [],
   "source": [
    "feature_importances = pd.DataFrame(dt1.feature_importances_, index = feature_names).sort_values(0, ascending = False)\n",
    "feature_importances"
   ]
  },
  {
   "cell_type": "code",
   "execution_count": null,
   "id": "d1b03802",
   "metadata": {},
   "outputs": [],
   "source": [
    "\n",
    "\n",
    "fig = plt.figure(figsize=(25,20))\n",
    "tree = tree.plot_tree(dt1,\n",
    "                      feature_names=feature_names,\n",
    "                      class_names={0:'AUDIO', 1:'CAMERA', 2:'HOME AUTOMATION'},\n",
    "                      filled = True,\n",
    "                      fontsize = 12)"
   ]
  },
  {
   "cell_type": "markdown",
   "id": "f2b9804e",
   "metadata": {},
   "source": [
    "## Árbol de decisión con las 7 propiedades de mayor peso:"
   ]
  },
  {
   "cell_type": "code",
   "execution_count": null,
   "id": "804d3d7e",
   "metadata": {},
   "outputs": [],
   "source": [
    "# Seleccionar las columnas deseadas\n",
    "columnas_deseadas = ['L3_ip_dst_count', 'DNS_count', 'L4_udp', 'ttl', 'port_class_src', 'port_class_dst','global_category']\n",
    "train_nuevo = train[columnas_deseadas]\n",
    "test_nuevo = test[columnas_deseadas]"
   ]
  },
  {
   "cell_type": "code",
   "execution_count": null,
   "id": "a5ea120c",
   "metadata": {},
   "outputs": [],
   "source": [
    "train_nuevo"
   ]
  },
  {
   "cell_type": "code",
   "execution_count": null,
   "id": "0b77f375",
   "metadata": {},
   "outputs": [],
   "source": [
    "x_train_n, y_train_n = train_nuevo.drop(columns=['global_category']), train_nuevo['global_category']\n",
    "x_test_n, y_test_n = test_nuevo.drop(columns=['global_category']), test_nuevo['global_category']"
   ]
  },
  {
   "cell_type": "code",
   "execution_count": null,
   "id": "5d01825c",
   "metadata": {},
   "outputs": [],
   "source": [
    "dt2 = DecisionTreeClassifier(criterion = 'gini', \n",
    "                             splitter='best',\n",
    "                             min_samples_split = 2, \n",
    "                             min_samples_leaf = 1,\n",
    "                             min_weight_fraction_leaf = 0.0,\n",
    "                             min_impurity_decrease = 0.0,\n",
    "                             class_weight = None,\n",
    "                             random_state = 24,\n",
    "                             max_leaf_nodes = None,\n",
    "                             max_depth = None,\n",
    "                             max_features = None,\n",
    "                             ccp_alpha = 0.0) #Instanciamos\n",
    "\n",
    "start = time.time()\n",
    "dt2.fit(x_train_n, y_train_n)\n",
    "stop = time.time()"
   ]
  },
  {
   "cell_type": "code",
   "execution_count": null,
   "id": "a18e3e30",
   "metadata": {},
   "outputs": [],
   "source": [
    "print(f\"Training time: {stop - start}s\")\n",
    "print(f'Train accuracy : {dt2.score(x_train_n, y_train_n): .3f}')\n",
    "print(f'Test accuracy : {dt2.score(x_test_n, y_test_n): .3f}')"
   ]
  },
  {
   "cell_type": "code",
   "execution_count": null,
   "id": "ec474931",
   "metadata": {},
   "outputs": [],
   "source": [
    "feature_names_n = x_train_n.columns\n",
    "feature_names_n"
   ]
  },
  {
   "cell_type": "code",
   "execution_count": null,
   "id": "8940ca59",
   "metadata": {},
   "outputs": [],
   "source": [
    "fig = plt.figure(figsize=(25,20))\n",
    "tree = tree.plot_tree(dt2,\n",
    "                      feature_names=feature_names_n,\n",
    "                      class_names={0:'AUDIO', 1:'CAMERA', 2:'HOME AUTOMATION'},\n",
    "                      filled = True,\n",
    "                      fontsize = 12)"
   ]
  },
  {
   "cell_type": "markdown",
   "id": "ed7192f9",
   "metadata": {},
   "source": [
    "## Eligiendo hiperparámetros con RandomizedSearchCV:"
   ]
  },
  {
   "cell_type": "code",
   "execution_count": 294,
   "id": "c22fbc5c",
   "metadata": {},
   "outputs": [],
   "source": [
    "#Criterio de creación de los árboles. Es la función que mide la calidad de las divisiones.\n",
    "criterion = [\"gini\", \"entropy\"]\n",
    "#Estrategia usada para dividir los nodos\n",
    "splitter = [\"best\", \"random\"]\n",
    "#Mínimo número de muestras que se necesitan para dividir un nodo interno.\n",
    "min_samples_split = [int(x) for x in np.linspace(start=1, stop=20, num=20)]\n",
    "##Mínimo número de muestras que tiene que haber en una hoja.\n",
    "min_samples_leaf = [int(x) for x in np.linspace(start=1, stop=20, num=20)]\n",
    "#Número de propiedades que se usarán para llevar a cabo la mejor clasificación.\n",
    "max_features = [\"auto\", \"sqrt\", None]\n",
    "#Número de niveles del árbol\n",
    "max_depth = [int(x) for x in np.linspace(start=1, stop=10, num=10)]"
   ]
  },
  {
   "cell_type": "code",
   "execution_count": 295,
   "id": "e551d4e3",
   "metadata": {},
   "outputs": [],
   "source": [
    "param_grid2 = {'criterion': criterion,\n",
    "              'splitter': splitter,\n",
    "              'max_features': max_features,\n",
    "              'min_samples_split': min_samples_split,\n",
    "              'min_samples_leaf': min_samples_leaf, \n",
    "              'max_depth': max_depth}"
   ]
  },
  {
   "cell_type": "code",
   "execution_count": 296,
   "id": "a2180243",
   "metadata": {},
   "outputs": [],
   "source": [
    "DT_RandomGrid = RandomizedSearchCV(estimator = dt, param_distributions = param_grid2, cv = 5, verbose=2, n_jobs = 4)"
   ]
  },
  {
   "cell_type": "code",
   "execution_count": 297,
   "id": "bf5eb012",
   "metadata": {},
   "outputs": [
    {
     "name": "stdout",
     "output_type": "stream",
     "text": [
      "Fitting 5 folds for each of 10 candidates, totalling 50 fits\n"
     ]
    }
   ],
   "source": [
    "start = time.time()\n",
    "DT_RandomGrid.fit(x_train, y_train)\n",
    "stop = time.time()"
   ]
  },
  {
   "cell_type": "code",
   "execution_count": 298,
   "id": "07f26cf9",
   "metadata": {},
   "outputs": [
    {
     "name": "stdout",
     "output_type": "stream",
     "text": [
      "Randomized search DT time: 5.4991090297698975s\n",
      "Train accuracy :  0.999\n",
      "Test accuracy :  0.781\n"
     ]
    }
   ],
   "source": [
    "print(f\"Randomized search DT time: {stop - start}s\")\n",
    "print(f'Train accuracy : {DT_RandomGrid.score(x_train, y_train): .3f}')\n",
    "print(f'Test accuracy : {DT_RandomGrid.score(x_test, y_test): .3f}')"
   ]
  },
  {
   "cell_type": "code",
   "execution_count": 299,
   "id": "67241edc",
   "metadata": {
    "scrolled": false
   },
   "outputs": [
    {
     "data": {
      "text/plain": [
       "{'splitter': 'best',\n",
       " 'min_samples_split': 5,\n",
       " 'min_samples_leaf': 7,\n",
       " 'max_features': None,\n",
       " 'max_depth': 9,\n",
       " 'criterion': 'entropy'}"
      ]
     },
     "execution_count": 299,
     "metadata": {},
     "output_type": "execute_result"
    }
   ],
   "source": [
    "DT_RandomGrid.best_params_"
   ]
  },
  {
   "cell_type": "code",
   "execution_count": 377,
   "id": "1b93a605",
   "metadata": {},
   "outputs": [],
   "source": [
    "dt2 = DecisionTreeClassifier(criterion = 'entropy', \n",
    "                             splitter='best',\n",
    "                             min_samples_split = 5, \n",
    "                             min_samples_leaf = 7,\n",
    "                             max_depth = 5,\n",
    "                             max_features = None) #Instanciamos"
   ]
  },
  {
   "cell_type": "code",
   "execution_count": 378,
   "id": "65307634",
   "metadata": {},
   "outputs": [],
   "source": [
    "start = time.time()\n",
    "dt2.fit(x_train, y_train)\n",
    "stop = time.time()"
   ]
  },
  {
   "cell_type": "code",
   "execution_count": 379,
   "id": "7a63fe0b",
   "metadata": {
    "scrolled": true
   },
   "outputs": [
    {
     "name": "stdout",
     "output_type": "stream",
     "text": [
      "Training time: 0.42759084701538086s\n",
      "Train accuracy :  0.990\n",
      "Test accuracy :  0.794\n"
     ]
    }
   ],
   "source": [
    "print(f\"Training time: {stop - start}s\")\n",
    "print(f'Train accuracy : {dt2.score(x_train, y_train): .3f}')\n",
    "print(f'Test accuracy : {dt2.score(x_test, y_test): .3f}')"
   ]
  },
  {
   "cell_type": "code",
   "execution_count": 56,
   "id": "57044c00",
   "metadata": {},
   "outputs": [
    {
     "data": {
      "text/plain": [
       "array(['AUDIO', 'AUDIO', 'AUDIO', ..., 'AUDIO', 'HOME AUTOMATION',\n",
       "       'HOME AUTOMATION'], dtype=object)"
      ]
     },
     "execution_count": 56,
     "metadata": {},
     "output_type": "execute_result"
    }
   ],
   "source": [
    "#Predicción\n",
    "dt2.predict(x_test)"
   ]
  },
  {
   "cell_type": "code",
   "execution_count": 57,
   "id": "c050be41",
   "metadata": {},
   "outputs": [
    {
     "data": {
      "text/plain": [
       "8"
      ]
     },
     "execution_count": 57,
     "metadata": {},
     "output_type": "execute_result"
    }
   ],
   "source": [
    "#Niveles del árbol\n",
    "dt2.get_depth()"
   ]
  },
  {
   "cell_type": "markdown",
   "id": "c216db80",
   "metadata": {},
   "source": [
    "## Matriz de confusión:"
   ]
  },
  {
   "cell_type": "code",
   "execution_count": 58,
   "id": "ef3968f9",
   "metadata": {},
   "outputs": [],
   "source": [
    "#Guardamos la predicción de Decision Tree\n",
    "y_pred_DT = dt2.predict(x_test)\n",
    "cm = metrics.confusion_matrix(y_test, y_pred_DT)"
   ]
  },
  {
   "cell_type": "code",
   "execution_count": 59,
   "id": "3be2d901",
   "metadata": {},
   "outputs": [
    {
     "data": {
      "image/png": "[encoded data removed]",
      "text/plain": [
       "<Figure size 300x300 with 1 Axes>"
      ]
     },
     "metadata": {},
     "output_type": "display_data"
    }
   ],
   "source": [
    "plt.figure(figsize=(3,3))\n",
    "sns.heatmap(cm, annot = True, fmt = '0.1f', linewidth=0.5, \n",
    "            square = True, cbar = False)\n",
    "plt.ylabel('Valores Reales')\n",
    "plt.xlabel('Valores Predichos')\n",
    "plt.show()"
   ]
  },
  {
   "cell_type": "raw",
   "id": "25ccdd97",
   "metadata": {},
   "source": [
    "Precision = TP/TP+TN\n",
    "Recall = TP/TP+FN\n",
    "F1 Score = 2*((Precision*Recall)/(Precision+Recall))\n",
    "\n",
    "macro avg -> Media aritmética\n",
    "Weighted avg -> Considera el número de muestras que hay en cada etiqueta."
   ]
  },
  {
   "cell_type": "code",
   "execution_count": null,
   "id": "44147a86",
   "metadata": {},
   "outputs": [],
   "source": [
    "print(metrics.classification_report(y_test, y_pred_DT))"
   ]
  },
  {
   "cell_type": "code",
   "execution_count": null,
   "id": "747ca948",
   "metadata": {},
   "outputs": [],
   "source": []
  }
 ],
 "metadata": {
  "kernelspec": {
   "display_name": "Python 3 (ipykernel)",
   "language": "python",
   "name": "python3"
  },
  "language_info": {
   "codemirror_mode": {
    "name": "ipython",
    "version": 3
   },
   "file_extension": ".py",
   "mimetype": "text/x-python",
   "name": "python",
   "nbconvert_exporter": "python",
   "pygments_lexer": "ipython3",
   "version": "3.9.13"
  }
 },
 "nbformat": 4,
 "nbformat_minor": 5
}
