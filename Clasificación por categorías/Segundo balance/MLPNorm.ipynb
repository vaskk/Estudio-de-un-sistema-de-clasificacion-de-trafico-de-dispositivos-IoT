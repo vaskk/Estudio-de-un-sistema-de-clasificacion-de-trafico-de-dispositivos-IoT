{
 "cells": [
  {
   "cell_type": "code",
   "execution_count": 1,
   "id": "6b1e0622",
   "metadata": {},
   "outputs": [],
   "source": [
    "import pandas as pd\n",
    "import numpy as np\n",
    "import time \n",
    "\n",
    "import shap\n",
    "from sklearn.model_selection import RandomizedSearchCV\n",
    "from sklearn.preprocessing import StandardScaler\n",
    "from sklearn.preprocessing import MinMaxScaler\n",
    "from sklearn.neural_network import MLPClassifier\n",
    "from sklearn.pipeline import make_pipeline\n",
    "\n",
    "from sklearn import metrics\n",
    "import matplotlib.pyplot as plt\n",
    "import seaborn as sns\n",
    "from sklearn import preprocessing\n",
    "import shap"
   ]
  },
  {
   "cell_type": "code",
   "execution_count": 2,
   "id": "13fbdade",
   "metadata": {},
   "outputs": [],
   "source": [
    "train = pd.read_parquet('train.parquet')\n",
    "test = pd.read_parquet('test.parquet')"
   ]
  },
  {
   "cell_type": "code",
   "execution_count": 3,
   "id": "35f9e0bb",
   "metadata": {},
   "outputs": [],
   "source": [
    "#Eliminamos las siguientes columnas, ya que de momento no las vamos a usar\n",
    "train = train.drop(columns = ['device','interaction_type','command'])\n",
    "#Eliminamos las siguientes columnas, ya que de momento no las vamos a usar\n",
    "test = test.drop(columns = ['device','interaction_type','command'])"
   ]
  },
  {
   "cell_type": "code",
   "execution_count": 4,
   "id": "73c520e7",
   "metadata": {},
   "outputs": [],
   "source": [
    "x_train, y_train = train.drop(columns=['global_category']), train['global_category']\n",
    "x_test, y_test = test.drop(columns=['global_category']), test['global_category']"
   ]
  },
  {
   "cell_type": "code",
   "execution_count": null,
   "id": "a8c34cca",
   "metadata": {},
   "outputs": [],
   "source": []
  },
  {
   "cell_type": "markdown",
   "id": "8027142e",
   "metadata": {},
   "source": [
    "# Normalización de los datos:"
   ]
  },
  {
   "cell_type": "code",
   "execution_count": 5,
   "id": "39f7646b",
   "metadata": {},
   "outputs": [],
   "source": [
    "scaler = MinMaxScaler()\n",
    "X_train_scaled = scaler.fit_transform(x_train.select_dtypes(include=['float64', 'int64']))\n",
    "X_test_scaled = scaler.transform(x_test.select_dtypes(include=['float64', 'int64']))"
   ]
  },
  {
   "cell_type": "code",
   "execution_count": 19,
   "id": "ffdb7645",
   "metadata": {},
   "outputs": [
    {
     "data": {
      "text/plain": [
       "array([[6.66666667e-01, 1.00000000e+00, 2.98648649e-01, ...,\n",
       "        0.00000000e+00, 0.00000000e+00, 0.00000000e+00],\n",
       "       [1.00000000e+00, 6.66666667e-01, 1.35135135e-02, ...,\n",
       "        1.44520548e-01, 1.60282238e-03, 1.06394914e-03],\n",
       "       [0.00000000e+00, 0.00000000e+00, 4.32432432e-02, ...,\n",
       "        1.44520548e-01, 1.27238892e-02, 9.51003211e-03],\n",
       "       ...,\n",
       "       [3.33333333e-01, 1.00000000e+00, 1.35135135e-02, ...,\n",
       "        1.06164384e-02, 9.50522564e-04, 2.23195870e-01],\n",
       "       [3.33333333e-01, 1.00000000e+00, 3.44594595e-02, ...,\n",
       "        2.12328767e-02, 3.44758875e-05, 2.23218751e-01],\n",
       "       [1.00000000e+00, 3.33333333e-01, 1.35135135e-02, ...,\n",
       "        2.12328767e-02, 3.31636359e-03, 2.25420144e-01]])"
      ]
     },
     "execution_count": 19,
     "metadata": {},
     "output_type": "execute_result"
    }
   ],
   "source": [
    "X_train_scaled"
   ]
  },
  {
   "cell_type": "markdown",
   "id": "5cc2603d",
   "metadata": {},
   "source": [
    "# Sin hiperparametros:"
   ]
  },
  {
   "cell_type": "code",
   "execution_count": 8,
   "id": "99c43924",
   "metadata": {},
   "outputs": [],
   "source": [
    "clf = MLPClassifier()\n",
    "\n",
    "start = time.time()\n",
    "clf.fit(X_train_scaled, y_train)\n",
    "stop = time.time()"
   ]
  },
  {
   "cell_type": "code",
   "execution_count": 9,
   "id": "6c5f3690",
   "metadata": {},
   "outputs": [
    {
     "name": "stdout",
     "output_type": "stream",
     "text": [
      "MLP training time: 18.434710025787354s\n",
      "Train accuracy :  0.999\n",
      "Test accuracy :  0.761\n"
     ]
    }
   ],
   "source": [
    "print(f\"MLP training time: {stop - start}s\")\n",
    "print(f'Train accuracy : {clf.score(X_train_scaled, y_train): .3f}')\n",
    "print(f'Test accuracy : {clf.score(X_test_scaled, y_test): .3f}')"
   ]
  },
  {
   "cell_type": "markdown",
   "id": "167bb526",
   "metadata": {},
   "source": [
    "# RandomSearchCV (NO MUY EFECTIVO):"
   ]
  },
  {
   "cell_type": "code",
   "execution_count": 77,
   "id": "2798586e",
   "metadata": {},
   "outputs": [
    {
     "name": "stdout",
     "output_type": "stream",
     "text": [
      "Fitting 5 folds for each of 10 candidates, totalling 50 fits\n",
      "[CV] END activation=logistic, hidden_layer_sizes=15, learning_rate=adaptive, max_iter=404, solver=adam; total time=   9.1s\n",
      "[CV] END activation=logistic, hidden_layer_sizes=15, learning_rate=adaptive, max_iter=404, solver=adam; total time=   9.5s\n",
      "[CV] END activation=logistic, hidden_layer_sizes=15, learning_rate=adaptive, max_iter=404, solver=adam; total time=  11.0s\n",
      "[CV] END activation=logistic, hidden_layer_sizes=15, learning_rate=adaptive, max_iter=404, solver=adam; total time=  10.6s\n",
      "[CV] END activation=logistic, hidden_layer_sizes=15, learning_rate=adaptive, max_iter=404, solver=adam; total time=   6.8s\n",
      "[CV] END activation=tanh, hidden_layer_sizes=(5, 5), learning_rate=adaptive, max_iter=811, solver=sgd; total time=  12.9s\n",
      "[CV] END activation=tanh, hidden_layer_sizes=(5, 5), learning_rate=adaptive, max_iter=811, solver=sgd; total time=  19.0s\n",
      "[CV] END activation=tanh, hidden_layer_sizes=(5, 5), learning_rate=adaptive, max_iter=811, solver=sgd; total time=  15.4s\n",
      "[CV] END activation=tanh, hidden_layer_sizes=(5, 5), learning_rate=adaptive, max_iter=811, solver=sgd; total time=  26.0s\n",
      "[CV] END activation=tanh, hidden_layer_sizes=(5, 5), learning_rate=adaptive, max_iter=811, solver=sgd; total time=  12.4s\n",
      "[CV] END activation=identity, hidden_layer_sizes=(5, 10), learning_rate=invscaling, max_iter=560, solver=adam; total time=   4.6s\n",
      "[CV] END activation=identity, hidden_layer_sizes=(5, 10), learning_rate=invscaling, max_iter=560, solver=adam; total time=   4.9s\n",
      "[CV] END activation=identity, hidden_layer_sizes=(5, 10), learning_rate=invscaling, max_iter=560, solver=adam; total time=   5.0s\n",
      "[CV] END activation=identity, hidden_layer_sizes=(5, 10), learning_rate=invscaling, max_iter=560, solver=adam; total time=   4.9s\n",
      "[CV] END activation=identity, hidden_layer_sizes=(5, 10), learning_rate=invscaling, max_iter=560, solver=adam; total time=   3.1s\n",
      "[CV] END activation=identity, hidden_layer_sizes=(5, 10), learning_rate=adaptive, max_iter=586, solver=sgd; total time=   5.7s\n",
      "[CV] END activation=identity, hidden_layer_sizes=(5, 10), learning_rate=adaptive, max_iter=586, solver=sgd; total time=  12.9s\n",
      "[CV] END activation=identity, hidden_layer_sizes=(5, 10), learning_rate=adaptive, max_iter=586, solver=sgd; total time=  14.6s\n",
      "[CV] END activation=identity, hidden_layer_sizes=(5, 10), learning_rate=adaptive, max_iter=586, solver=sgd; total time=  16.2s\n",
      "[CV] END activation=identity, hidden_layer_sizes=(5, 10), learning_rate=adaptive, max_iter=586, solver=sgd; total time=  10.5s\n",
      "[CV] END activation=identity, hidden_layer_sizes=(50, 25), learning_rate=constant, max_iter=500, solver=adam; total time=   3.3s\n",
      "[CV] END activation=identity, hidden_layer_sizes=(50, 25), learning_rate=constant, max_iter=500, solver=adam; total time=   4.2s\n",
      "[CV] END activation=identity, hidden_layer_sizes=(50, 25), learning_rate=constant, max_iter=500, solver=adam; total time=   4.2s\n",
      "[CV] END activation=identity, hidden_layer_sizes=(50, 25), learning_rate=constant, max_iter=500, solver=adam; total time=   4.2s\n",
      "[CV] END activation=identity, hidden_layer_sizes=(50, 25), learning_rate=constant, max_iter=500, solver=adam; total time=   1.7s\n",
      "[CV] END activation=logistic, hidden_layer_sizes=(75, 50), learning_rate=invscaling, max_iter=231, solver=adam; total time=  13.0s\n",
      "[CV] END activation=logistic, hidden_layer_sizes=(75, 50), learning_rate=invscaling, max_iter=231, solver=adam; total time=  14.7s\n",
      "[CV] END activation=logistic, hidden_layer_sizes=(75, 50), learning_rate=invscaling, max_iter=231, solver=adam; total time=  13.9s\n",
      "[CV] END activation=logistic, hidden_layer_sizes=(75, 50), learning_rate=invscaling, max_iter=231, solver=adam; total time=  14.5s\n",
      "[CV] END activation=logistic, hidden_layer_sizes=(75, 50), learning_rate=invscaling, max_iter=231, solver=adam; total time=  12.4s\n",
      "[CV] END activation=logistic, hidden_layer_sizes=(150, 100), learning_rate=adaptive, max_iter=395, solver=sgd; total time=  56.9s\n"
     ]
    },
    {
     "name": "stderr",
     "output_type": "stream",
     "text": [
      "Stochastic Optimizer: Maximum iterations (395) reached and the optimization hasn't converged yet.\n"
     ]
    },
    {
     "name": "stdout",
     "output_type": "stream",
     "text": [
      "[CV] END activation=logistic, hidden_layer_sizes=(150, 100), learning_rate=adaptive, max_iter=395, solver=sgd; total time= 1.1min\n"
     ]
    },
    {
     "name": "stderr",
     "output_type": "stream",
     "text": [
      "Stochastic Optimizer: Maximum iterations (395) reached and the optimization hasn't converged yet.\n"
     ]
    },
    {
     "name": "stdout",
     "output_type": "stream",
     "text": [
      "[CV] END activation=logistic, hidden_layer_sizes=(150, 100), learning_rate=adaptive, max_iter=395, solver=sgd; total time= 1.1min\n"
     ]
    },
    {
     "name": "stderr",
     "output_type": "stream",
     "text": [
      "Stochastic Optimizer: Maximum iterations (395) reached and the optimization hasn't converged yet.\n"
     ]
    },
    {
     "name": "stdout",
     "output_type": "stream",
     "text": [
      "[CV] END activation=logistic, hidden_layer_sizes=(150, 100), learning_rate=adaptive, max_iter=395, solver=sgd; total time= 1.1min\n"
     ]
    },
    {
     "name": "stderr",
     "output_type": "stream",
     "text": [
      "Stochastic Optimizer: Maximum iterations (395) reached and the optimization hasn't converged yet.\n"
     ]
    },
    {
     "name": "stdout",
     "output_type": "stream",
     "text": [
      "[CV] END activation=logistic, hidden_layer_sizes=(150, 100), learning_rate=adaptive, max_iter=395, solver=sgd; total time= 1.2min\n",
      "[CV] END activation=logistic, hidden_layer_sizes=(75, 50), learning_rate=invscaling, max_iter=556, solver=sgd; total time=   1.2s\n",
      "[CV] END activation=logistic, hidden_layer_sizes=(75, 50), learning_rate=invscaling, max_iter=556, solver=sgd; total time=   1.2s\n",
      "[CV] END activation=logistic, hidden_layer_sizes=(75, 50), learning_rate=invscaling, max_iter=556, solver=sgd; total time=   1.2s\n",
      "[CV] END activation=logistic, hidden_layer_sizes=(75, 50), learning_rate=invscaling, max_iter=556, solver=sgd; total time=   1.2s\n",
      "[CV] END activation=logistic, hidden_layer_sizes=(75, 50), learning_rate=invscaling, max_iter=556, solver=sgd; total time=   1.2s\n",
      "[CV] END activation=identity, hidden_layer_sizes=10, learning_rate=constant, max_iter=863, solver=adam; total time=   4.5s\n",
      "[CV] END activation=identity, hidden_layer_sizes=10, learning_rate=constant, max_iter=863, solver=adam; total time=   5.5s\n",
      "[CV] END activation=identity, hidden_layer_sizes=10, learning_rate=constant, max_iter=863, solver=adam; total time=   4.2s\n",
      "[CV] END activation=identity, hidden_layer_sizes=10, learning_rate=constant, max_iter=863, solver=adam; total time=   4.2s\n",
      "[CV] END activation=identity, hidden_layer_sizes=10, learning_rate=constant, max_iter=863, solver=adam; total time=   3.6s\n",
      "[CV] END activation=logistic, hidden_layer_sizes=5, learning_rate=constant, max_iter=737, solver=sgd; total time=  11.6s\n",
      "[CV] END activation=logistic, hidden_layer_sizes=5, learning_rate=constant, max_iter=737, solver=sgd; total time=  14.7s\n",
      "[CV] END activation=logistic, hidden_layer_sizes=5, learning_rate=constant, max_iter=737, solver=sgd; total time=  14.1s\n",
      "[CV] END activation=logistic, hidden_layer_sizes=5, learning_rate=constant, max_iter=737, solver=sgd; total time=  14.5s\n",
      "[CV] END activation=logistic, hidden_layer_sizes=5, learning_rate=constant, max_iter=737, solver=sgd; total time=  12.0s\n"
     ]
    }
   ],
   "source": [
    "param_grid = {'hidden_layer_sizes': [5, 10, 15, (5,5), (5,10), (50,25), (75,50), (100,50),(150,100)], \n",
    "              'activation': ['identity', 'logistic', 'tanh', 'relu'],\n",
    "              'solver': ['sgd', 'adam'],\n",
    "              'learning_rate': ['constant', 'invscaling', 'adaptive'],\n",
    "              'max_iter': [int(x) for x in np.linspace(start=200, stop=1000, num=800)]}\n",
    "\n",
    "MLP_RandomGrid = RandomizedSearchCV(estimator = clf,\n",
    "                                    param_distributions = param_grid, \n",
    "                                    cv = 5, verbose=2)\n",
    "\n",
    "start = time.time()\n",
    "MLP_RandomGrid.fit(X_train_scaled, y_train)\n",
    "stop = time.time()"
   ]
  },
  {
   "cell_type": "code",
   "execution_count": 78,
   "id": "b6d0c9b3",
   "metadata": {},
   "outputs": [
    {
     "name": "stdout",
     "output_type": "stream",
     "text": [
      "Score:  0.9617486338797813\n",
      "Parameters:  {'solver': 'adam', 'max_iter': 231, 'learning_rate': 'invscaling', 'hidden_layer_sizes': (75, 50), 'activation': 'logistic'}\n"
     ]
    }
   ],
   "source": [
    "print('Score: ', MLP_RandomGrid.best_score_)\n",
    "print('Parameters: ', MLP_RandomGrid.best_params_)"
   ]
  },
  {
   "cell_type": "markdown",
   "id": "3557ac59",
   "metadata": {},
   "source": [
    "#  Ajuste Manual:"
   ]
  },
  {
   "cell_type": "code",
   "execution_count": 6,
   "id": "23a760d1",
   "metadata": {},
   "outputs": [
    {
     "name": "stderr",
     "output_type": "stream",
     "text": [
      "Stochastic Optimizer: Maximum iterations (200) reached and the optimization hasn't converged yet.\n"
     ]
    }
   ],
   "source": [
    "clf = MLPClassifier(hidden_layer_sizes=(100,),\n",
    "                    max_iter=200,\n",
    "                    activation='identity', \n",
    "                    solver='adam',\n",
    "                    learning_rate='constant',\n",
    "                    learning_rate_init=0.0001)\n",
    "\n",
    "#alpha -> Para la regulación del sobreajuste\n",
    "#solver = sgd tarda más \n",
    "#600 iter\n",
    "\n",
    "start = time.time()\n",
    "clf.fit(X_train_scaled, y_train)\n",
    "stop = time.time()"
   ]
  },
  {
   "cell_type": "code",
   "execution_count": 7,
   "id": "f75779d3",
   "metadata": {},
   "outputs": [
    {
     "name": "stdout",
     "output_type": "stream",
     "text": [
      "MLP training time: 17.047088384628296s\n",
      "Train accuracy :  0.974\n",
      "Test accuracy :  0.850\n"
     ]
    }
   ],
   "source": [
    "print(f\"MLP training time: {stop - start}s\")\n",
    "print(f'Train accuracy : {clf.score(X_train_scaled, y_train): .3f}')\n",
    "print(f'Test accuracy : {clf.score(X_test_scaled, y_test): .3f}')"
   ]
  },
  {
   "cell_type": "code",
   "execution_count": 8,
   "id": "97cb4236",
   "metadata": {},
   "outputs": [
    {
     "data": {
      "image/png": "[encoded data removed]",
      "text/plain": [
       "<Figure size 300x300 with 1 Axes>"
      ]
     },
     "metadata": {},
     "output_type": "display_data"
    }
   ],
   "source": [
    "y_pred = clf.predict(X_test_scaled)\n",
    "\n",
    "cm = metrics.confusion_matrix(y_test, y_pred)\n",
    "\n",
    "class_names = ['AUDIO', 'VIDEO', 'AUTO']\n",
    "\n",
    "sns.heatmap(cm, annot = True, fmt = '0.0f', linewidth=0.5, xticklabels=class_names, \n",
    "            yticklabels=class_names, square = True, cmap='Blues', cbar = False)\n",
    "\n",
    "fig = plt.gcf()\n",
    "fig.set_size_inches(3, 3)\n",
    "\n",
    "plt.ylabel('Valores Reales')\n",
    "plt.xlabel('Valores Predichos')\n",
    "plt.show()"
   ]
  },
  {
   "cell_type": "code",
   "execution_count": 26,
   "id": "6b029ee4",
   "metadata": {},
   "outputs": [
    {
     "name": "stdout",
     "output_type": "stream",
     "text": [
      "                 precision    recall  f1-score   support\n",
      "\n",
      "          AUDIO       0.91      0.96      0.94      5755\n",
      "         CAMERA       0.90      0.75      0.82      6313\n",
      "HOME AUTOMATION       0.71      0.81      0.76      5346\n",
      "\n",
      "       accuracy                           0.84     17414\n",
      "      macro avg       0.84      0.84      0.84     17414\n",
      "   weighted avg       0.85      0.84      0.84     17414\n",
      "\n"
     ]
    }
   ],
   "source": [
    "print(metrics.classification_report(y_test, y_pred))"
   ]
  },
  {
   "cell_type": "code",
   "execution_count": null,
   "id": "152e5696",
   "metadata": {},
   "outputs": [],
   "source": []
  },
  {
   "cell_type": "code",
   "execution_count": null,
   "id": "f00a5e19",
   "metadata": {},
   "outputs": [],
   "source": []
  }
 ],
 "metadata": {
  "kernelspec": {
   "display_name": "Python 3 (ipykernel)",
   "language": "python",
   "name": "python3"
  },
  "language_info": {
   "codemirror_mode": {
    "name": "ipython",
    "version": 3
   },
   "file_extension": ".py",
   "mimetype": "text/x-python",
   "name": "python",
   "nbconvert_exporter": "python",
   "pygments_lexer": "ipython3",
   "version": "3.9.13"
  }
 },
 "nbformat": 4,
 "nbformat_minor": 5
}
