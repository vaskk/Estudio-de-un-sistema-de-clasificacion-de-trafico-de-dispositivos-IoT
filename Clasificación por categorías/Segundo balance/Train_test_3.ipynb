{
 "cells": [
  {
   "cell_type": "code",
   "execution_count": 1,
   "id": "565666ad",
   "metadata": {},
   "outputs": [],
   "source": [
    "import pandas as pd\n",
    "import numpy as np\n",
    "import time "
   ]
  },
  {
   "cell_type": "code",
   "execution_count": 2,
   "id": "2a06899a",
   "metadata": {},
   "outputs": [],
   "source": [
    "audio = pd.read_csv('audio.csv')\n",
    "camera =  pd.read_csv('camera.csv')\n",
    "HA = pd.read_csv('HA.csv')"
   ]
  },
  {
   "cell_type": "code",
   "execution_count": 3,
   "id": "672342b0",
   "metadata": {},
   "outputs": [],
   "source": [
    "#Esta columna se agrega al pasar el dataset a formato CSV\n",
    "audio = audio.drop(columns= ['Unnamed: 0'])\n",
    "camera = camera.drop(columns= ['Unnamed: 0'])\n",
    "HA = HA.drop(columns= ['Unnamed: 0'])"
   ]
  },
  {
   "cell_type": "markdown",
   "id": "cd711214",
   "metadata": {},
   "source": [
    "# AUDIO:"
   ]
  },
  {
   "cell_type": "code",
   "execution_count": 4,
   "id": "f01f8609",
   "metadata": {},
   "outputs": [],
   "source": [
    "#Dividimos los paquetes de audio en dos mitades (sin cortar flujos)\n",
    "audio1 = audio.drop(audio.index[8694:17520], inplace=False)\n",
    "audio2 = audio.drop(audio.index[0:8694], inplace=False)"
   ]
  },
  {
   "cell_type": "code",
   "execution_count": 6,
   "id": "758870be",
   "metadata": {},
   "outputs": [],
   "source": [
    "audio1.to_csv('audio1.csv')\n",
    "audio2.to_csv('audio2.csv')"
   ]
  },
  {
   "cell_type": "code",
   "execution_count": 5,
   "id": "38aa93c9",
   "metadata": {},
   "outputs": [],
   "source": [
    "#Dividimos la primera mitad en train y test (80-20) \n",
    "audio1_train = audio1.drop(audio1.index[6201:8695], inplace=False) #71,32%\n",
    "audio1_test = audio1.drop(audio1.index[0:6201], inplace=False)     #28,67%"
   ]
  },
  {
   "cell_type": "code",
   "execution_count": 6,
   "id": "2256c5ea",
   "metadata": {},
   "outputs": [],
   "source": [
    "#Dividimos la segunda mitad en train y test (80-20) \n",
    "audio2_train = audio2.drop(audio2.index[5564:8826], inplace=False) #63%\n",
    "audio2_test = audio2.drop(audio2.index[0:5564], inplace=False)     #37%"
   ]
  },
  {
   "cell_type": "code",
   "execution_count": 7,
   "id": "8c8f03a9",
   "metadata": {},
   "outputs": [],
   "source": [
    "#Concatenamos los fragmentos de train y los de test\n",
    "audio_train = pd.concat(objs=[audio1_train, audio2_train], ignore_index=True, copy=False, sort=False)\n",
    "audio_test = pd.concat(objs=[audio1_test, audio2_test], ignore_index=True, copy=False, sort=False)"
   ]
  },
  {
   "cell_type": "code",
   "execution_count": 8,
   "id": "6db2a4e0",
   "metadata": {},
   "outputs": [
    {
     "name": "stdout",
     "output_type": "stream",
     "text": [
      "Audio Train : (11765, 45)\n",
      "Audio Test : (5755, 45)\n"
     ]
    }
   ],
   "source": [
    "print(f'Audio Train : {audio_train.shape}') #67.15%\n",
    "print(f'Audio Test : {audio_test.shape}') #32.84%"
   ]
  },
  {
   "cell_type": "markdown",
   "id": "93c18e78",
   "metadata": {},
   "source": [
    "# CAMERA:"
   ]
  },
  {
   "cell_type": "code",
   "execution_count": 9,
   "id": "d698852e",
   "metadata": {},
   "outputs": [],
   "source": [
    "camera1 = camera.drop(camera.index[7993:17333], inplace=False) #7993 -> 46.11%\n",
    "camera2 = camera.drop(camera.index[0:7993], inplace=False)     #9339 -> 53.88%"
   ]
  },
  {
   "cell_type": "code",
   "execution_count": 73,
   "id": "54fee881",
   "metadata": {},
   "outputs": [],
   "source": [
    "camera1.to_csv('camera1.csv')\n",
    "camera2.to_csv('camera2.csv')"
   ]
  },
  {
   "cell_type": "code",
   "execution_count": 10,
   "id": "6a4cd4c3",
   "metadata": {},
   "outputs": [],
   "source": [
    "#Dividimos la primera mitad en train y test (63.56-36.43) \n",
    "camera1_train = camera1.drop(camera1.index[5081:7993], inplace=False)\n",
    "camera1_test = camera1.drop(camera1.index[0:5081], inplace=False)"
   ]
  },
  {
   "cell_type": "code",
   "execution_count": 11,
   "id": "b1d7c711",
   "metadata": {},
   "outputs": [],
   "source": [
    "#Dividimos la segunda mitad en train y test (63.58-36.41) \n",
    "camera2_train = camera2.drop(camera2.index[5939:9340], inplace=False)\n",
    "camera2_test = camera2.drop(camera2.index[0:5939], inplace=False)"
   ]
  },
  {
   "cell_type": "code",
   "execution_count": 12,
   "id": "30577e80",
   "metadata": {},
   "outputs": [],
   "source": [
    "#Concatenamos los fragmentos de train y los de test\n",
    "camera_train = pd.concat(objs=[camera1_train, camera2_train], ignore_index=True, copy=False, sort=False)\n",
    "camera_test = pd.concat(objs=[camera1_test, camera2_test], ignore_index=True, copy=False, sort=False)"
   ]
  },
  {
   "cell_type": "code",
   "execution_count": 13,
   "id": "8efd1a83",
   "metadata": {},
   "outputs": [
    {
     "name": "stdout",
     "output_type": "stream",
     "text": [
      "Camera Train : (11020, 45)\n",
      "Camera Test : (6313, 45)\n"
     ]
    }
   ],
   "source": [
    "print(f'Camera Train : {camera_train.shape}') #63.57\n",
    "print(f'Camera Test : {camera_test.shape}')   #36.42"
   ]
  },
  {
   "cell_type": "markdown",
   "id": "599b93b2",
   "metadata": {},
   "source": [
    "# HOME AUTOMATION:"
   ]
  },
  {
   "cell_type": "code",
   "execution_count": 14,
   "id": "f4c108dd",
   "metadata": {},
   "outputs": [],
   "source": [
    "HA1 = HA.drop(HA.index[7558:17331], inplace=False) #7559 -> 43.61%\n",
    "HA2 = HA.drop(HA.index[0:7558], inplace=False)     #9772 -> 56.38%"
   ]
  },
  {
   "cell_type": "code",
   "execution_count": 86,
   "id": "f64309ca",
   "metadata": {},
   "outputs": [],
   "source": [
    "HA1.to_csv('HA1.csv')\n",
    "HA2.to_csv('HA2.csv')"
   ]
  },
  {
   "cell_type": "code",
   "execution_count": 15,
   "id": "4fba10d9",
   "metadata": {},
   "outputs": [],
   "source": [
    "#Dividimos la primera mitad en train y test (55.29-44.7) \n",
    "HA1_train = HA1.drop(HA1.index[4179:7558], inplace=False)\n",
    "HA1_test = HA1.drop(HA1.index[0:4179], inplace=False)"
   ]
  },
  {
   "cell_type": "code",
   "execution_count": 16,
   "id": "c82d5845",
   "metadata": {},
   "outputs": [],
   "source": [
    "#Dividimos la primera mitad en train y test (80-20) \n",
    "HA2_train = HA2.drop(HA2.index[7806:9773], inplace=False)\n",
    "HA2_test = HA2.drop(HA2.index[0:7806], inplace=False)"
   ]
  },
  {
   "cell_type": "code",
   "execution_count": 17,
   "id": "f68541a7",
   "metadata": {},
   "outputs": [],
   "source": [
    "#Concatenamos los fragmentos de train y los de test\n",
    "HA_train = pd.concat(objs=[HA1_train, HA2_train], ignore_index=True, copy=False, sort=False)\n",
    "HA_test = pd.concat(objs=[HA1_test, HA2_test], ignore_index=True, copy=False, sort=False)"
   ]
  },
  {
   "cell_type": "code",
   "execution_count": 18,
   "id": "d702588d",
   "metadata": {},
   "outputs": [
    {
     "name": "stdout",
     "output_type": "stream",
     "text": [
      "HA Train : (11985, 45)\n",
      "HA Test : (5346, 45)\n"
     ]
    }
   ],
   "source": [
    "print(f'HA Train : {HA_train.shape}') #69.15\n",
    "print(f'HA Test : {HA_test.shape}')   #30.84"
   ]
  },
  {
   "cell_type": "markdown",
   "id": "2eb4c7f6",
   "metadata": {},
   "source": [
    "# TRAIN Y TEST:"
   ]
  },
  {
   "cell_type": "code",
   "execution_count": 19,
   "id": "48952487",
   "metadata": {},
   "outputs": [],
   "source": [
    "train_df = pd.concat(objs=[audio_train, camera_train, HA_train], ignore_index=True, copy=False, sort=False)\n",
    "test_df = pd.concat(objs=[audio_test, camera_test, HA_test], ignore_index=True, copy=False, sort=False)"
   ]
  },
  {
   "cell_type": "code",
   "execution_count": 22,
   "id": "71dd5a42",
   "metadata": {},
   "outputs": [
    {
     "name": "stdout",
     "output_type": "stream",
     "text": [
      "Train : (34770, 45)\n",
      "Test : (17414, 45)\n"
     ]
    }
   ],
   "source": [
    "print(f'Train : {train_df.shape}') #66.62%\n",
    "print(f'Test : {test_df.shape}')   #33.37%"
   ]
  },
  {
   "cell_type": "code",
   "execution_count": 23,
   "id": "10e35caf",
   "metadata": {},
   "outputs": [],
   "source": [
    "train_df.to_parquet('train.parquet', use_dictionary = False)\n",
    "test_df.to_parquet('test.parquet', use_dictionary = False)"
   ]
  },
  {
   "cell_type": "code",
   "execution_count": null,
   "id": "13bc7e15",
   "metadata": {},
   "outputs": [],
   "source": []
  }
 ],
 "metadata": {
  "kernelspec": {
   "display_name": "Python 3 (ipykernel)",
   "language": "python",
   "name": "python3"
  },
  "language_info": {
   "codemirror_mode": {
    "name": "ipython",
    "version": 3
   },
   "file_extension": ".py",
   "mimetype": "text/x-python",
   "name": "python",
   "nbconvert_exporter": "python",
   "pygments_lexer": "ipython3",
   "version": "3.9.13"
  }
 },
 "nbformat": 4,
 "nbformat_minor": 5
}
