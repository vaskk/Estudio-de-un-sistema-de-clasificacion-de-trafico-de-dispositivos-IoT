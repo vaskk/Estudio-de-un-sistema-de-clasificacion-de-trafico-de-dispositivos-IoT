{
 "cells": [
  {
   "cell_type": "code",
   "execution_count": 1,
   "id": "664482dd",
   "metadata": {},
   "outputs": [],
   "source": [
    "import pandas as pd\n",
    "import numpy as np\n",
    "import time "
   ]
  },
  {
   "cell_type": "code",
   "execution_count": 2,
   "id": "0993ba8b",
   "metadata": {},
   "outputs": [],
   "source": [
    "df = pd.read_parquet('ciciot2022.parquet')"
   ]
  },
  {
   "cell_type": "code",
   "execution_count": 3,
   "id": "08d1e2f2",
   "metadata": {},
   "outputs": [],
   "source": [
    "df = df.drop(columns = ['ip_dst_new','source_port', 'dest_port', 'most_freq_d_ip',\n",
    "                        'most_freq_sport', 'most_freq_dport', 'epoch_timestamp'])"
   ]
  },
  {
   "cell_type": "code",
   "execution_count": 5,
   "id": "284e4a08",
   "metadata": {},
   "outputs": [],
   "source": [
    "frecuencia_dispositivos=df.device.value_counts()\n",
    "disp_comunes = frecuencia_dispositivos[frecuencia_dispositivos > 30].index\n",
    "df = df[df['device'].isin(disp_comunes)]"
   ]
  },
  {
   "cell_type": "code",
   "execution_count": 4,
   "id": "d5180858",
   "metadata": {},
   "outputs": [
    {
     "data": {
      "text/plain": [
       "simcam                34217\n",
       "homeeyecam            27619\n",
       "arloqcam              21948\n",
       "arlobasestationcam    20520\n",
       "luohecam              20076\n",
       "amcrest               18362\n",
       "heimvisioncam         17075\n",
       "dlinkcam              14099\n",
       "eufyhomebase          11007\n",
       "netatmocam            10625\n",
       "nestcam                7490\n",
       "sonosone               6569\n",
       "nestmini               3269\n",
       "echospot               3218\n",
       "echostudio             2932\n",
       "echodot                2786\n",
       "boruncam               2432\n",
       "roomba                 1106\n",
       "philipshue              919\n",
       "globelamp               657\n",
       "amazonplug              584\n",
       "heimvisionlamp          498\n",
       "atomicoffeemaker        413\n",
       "teckin2                 249\n",
       "yutron1                 239\n",
       "yutron2                 234\n",
       "teckin1                 220\n",
       "smartboard              116\n",
       "heimvision               27\n",
       "Name: device, dtype: int64"
      ]
     },
     "execution_count": 4,
     "metadata": {},
     "output_type": "execute_result"
    }
   ],
   "source": [
    "df.device.value_counts()"
   ]
  },
  {
   "cell_type": "markdown",
   "id": "208a55d0",
   "metadata": {},
   "source": [
    "## Hacemos un CSV de cada dispositivo:"
   ]
  },
  {
   "cell_type": "code",
   "execution_count": 7,
   "id": "6202047f",
   "metadata": {},
   "outputs": [],
   "source": [
    "for label in df['device'].unique():\n",
    "    sub_df = df[df['device'] == label]\n",
    "    sub_df.to_csv(f\"{label}.csv\", index=False)"
   ]
  },
  {
   "cell_type": "markdown",
   "id": "bf81fd98",
   "metadata": {},
   "source": [
    "# SMARTBOARD:"
   ]
  },
  {
   "cell_type": "code",
   "execution_count": 5,
   "id": "653e0b94",
   "metadata": {},
   "outputs": [],
   "source": [
    "smartboard_df = pd.read_csv('smartboard.csv')"
   ]
  },
  {
   "cell_type": "code",
   "execution_count": 6,
   "id": "618f7c3f",
   "metadata": {},
   "outputs": [
    {
     "data": {
      "text/plain": [
       "77"
      ]
     },
     "execution_count": 6,
     "metadata": {},
     "output_type": "execute_result"
    }
   ],
   "source": [
    "idx_above = smartboard_df.loc[70:]['time_since_previously_displayed_frame'].eq(0).idxmax()\n",
    "idx_above"
   ]
  },
  {
   "cell_type": "code",
   "execution_count": 7,
   "id": "01ea81db",
   "metadata": {},
   "outputs": [],
   "source": [
    "smartboard_df_train = smartboard_df.iloc[:idx_above]\n",
    "smartboard_df_test = smartboard_df.iloc[idx_above:]"
   ]
  },
  {
   "cell_type": "markdown",
   "id": "f4c3bf0f",
   "metadata": {},
   "source": [
    "# TECKIN 1"
   ]
  },
  {
   "cell_type": "code",
   "execution_count": 8,
   "id": "23e68333",
   "metadata": {},
   "outputs": [],
   "source": [
    "teckin1_df = pd.read_csv('teckin1.csv')"
   ]
  },
  {
   "cell_type": "code",
   "execution_count": 9,
   "id": "ae1d77a6",
   "metadata": {},
   "outputs": [
    {
     "data": {
      "text/plain": [
       "151"
      ]
     },
     "execution_count": 9,
     "metadata": {},
     "output_type": "execute_result"
    }
   ],
   "source": [
    "idx_above = teckin1_df.loc[150:]['time_since_previously_displayed_frame'].eq(0).idxmax()\n",
    "idx_above"
   ]
  },
  {
   "cell_type": "code",
   "execution_count": 10,
   "id": "630247d5",
   "metadata": {},
   "outputs": [],
   "source": [
    "teckin1_df_train = teckin1_df.iloc[:idx_above]\n",
    "teckin1_df_test = teckin1_df.iloc[idx_above:]"
   ]
  },
  {
   "cell_type": "markdown",
   "id": "f2c6ef8e",
   "metadata": {},
   "source": [
    "# YUTRON 2"
   ]
  },
  {
   "cell_type": "code",
   "execution_count": 11,
   "id": "9e4c78b3",
   "metadata": {},
   "outputs": [],
   "source": [
    "yutron2_df = pd.read_csv('yutron2.csv')"
   ]
  },
  {
   "cell_type": "code",
   "execution_count": 12,
   "id": "38cd9b52",
   "metadata": {},
   "outputs": [
    {
     "data": {
      "text/plain": [
       "164"
      ]
     },
     "execution_count": 12,
     "metadata": {},
     "output_type": "execute_result"
    }
   ],
   "source": [
    "idx_above = yutron2_df.loc[160:]['time_since_previously_displayed_frame'].eq(0).idxmax()\n",
    "idx_above"
   ]
  },
  {
   "cell_type": "code",
   "execution_count": 13,
   "id": "4b2c76f6",
   "metadata": {},
   "outputs": [],
   "source": [
    "yutron2_df_train = yutron2_df.iloc[:idx_above]\n",
    "yutron2_df_test = yutron2_df.iloc[idx_above:]"
   ]
  },
  {
   "cell_type": "markdown",
   "id": "cdd63884",
   "metadata": {},
   "source": [
    "# YUTRON 1"
   ]
  },
  {
   "cell_type": "code",
   "execution_count": 14,
   "id": "32783181",
   "metadata": {},
   "outputs": [],
   "source": [
    "yutron1_df = pd.read_csv('yutron1.csv')"
   ]
  },
  {
   "cell_type": "code",
   "execution_count": 15,
   "id": "d2f8c671",
   "metadata": {},
   "outputs": [
    {
     "data": {
      "text/plain": [
       "172"
      ]
     },
     "execution_count": 15,
     "metadata": {},
     "output_type": "execute_result"
    }
   ],
   "source": [
    "idx_above = yutron1_df.loc[165:]['time_since_previously_displayed_frame'].eq(0).idxmax()\n",
    "idx_above"
   ]
  },
  {
   "cell_type": "code",
   "execution_count": 16,
   "id": "03474498",
   "metadata": {},
   "outputs": [],
   "source": [
    "yutron1_df_train = yutron1_df.iloc[:idx_above]\n",
    "yutron1_df_test = yutron1_df.iloc[idx_above:]"
   ]
  },
  {
   "cell_type": "markdown",
   "id": "f7397b3d",
   "metadata": {},
   "source": [
    "# TECKIN2"
   ]
  },
  {
   "cell_type": "code",
   "execution_count": 17,
   "id": "68c49ab8",
   "metadata": {},
   "outputs": [],
   "source": [
    "teckin2_df = pd.read_csv('teckin2.csv')"
   ]
  },
  {
   "cell_type": "code",
   "execution_count": 18,
   "id": "bb021381",
   "metadata": {},
   "outputs": [
    {
     "data": {
      "text/plain": [
       "179"
      ]
     },
     "execution_count": 18,
     "metadata": {},
     "output_type": "execute_result"
    }
   ],
   "source": [
    "idx_above = teckin2_df.loc[173:]['time_since_previously_displayed_frame'].eq(0).idxmax()\n",
    "idx_above"
   ]
  },
  {
   "cell_type": "code",
   "execution_count": 19,
   "id": "9f4d6773",
   "metadata": {},
   "outputs": [],
   "source": [
    "teckin2_df_train = teckin2_df.iloc[:idx_above]\n",
    "teckin2_df_test = teckin2_df.iloc[idx_above:]"
   ]
  },
  {
   "cell_type": "markdown",
   "id": "c6d185a3",
   "metadata": {},
   "source": [
    "# ATOMICOFEEMAKER"
   ]
  },
  {
   "cell_type": "code",
   "execution_count": 20,
   "id": "cb3df382",
   "metadata": {},
   "outputs": [],
   "source": [
    "atomicoffeemaker_df = pd.read_csv('atomicoffeemaker.csv')"
   ]
  },
  {
   "cell_type": "code",
   "execution_count": 21,
   "id": "a669ef81",
   "metadata": {},
   "outputs": [
    {
     "data": {
      "text/plain": [
       "286"
      ]
     },
     "execution_count": 21,
     "metadata": {},
     "output_type": "execute_result"
    }
   ],
   "source": [
    "idx_above = atomicoffeemaker_df.loc[285:]['time_since_previously_displayed_frame'].eq(0).idxmax()\n",
    "idx_above"
   ]
  },
  {
   "cell_type": "code",
   "execution_count": 22,
   "id": "15f7fea3",
   "metadata": {},
   "outputs": [],
   "source": [
    "atomicoffeemaker_df_train = atomicoffeemaker_df.iloc[:idx_above]\n",
    "atomicoffeemaker_df_test = atomicoffeemaker_df.iloc[idx_above:]"
   ]
  },
  {
   "cell_type": "markdown",
   "id": "05d476e2",
   "metadata": {},
   "source": [
    "# HEIMVISIONLAMP"
   ]
  },
  {
   "cell_type": "code",
   "execution_count": 23,
   "id": "551b967c",
   "metadata": {},
   "outputs": [],
   "source": [
    "heimvisionlamp_df = pd.read_csv('heimvisionlamp.csv')"
   ]
  },
  {
   "cell_type": "code",
   "execution_count": 24,
   "id": "ef4d4295",
   "metadata": {},
   "outputs": [
    {
     "data": {
      "text/plain": [
       "345"
      ]
     },
     "execution_count": 24,
     "metadata": {},
     "output_type": "execute_result"
    }
   ],
   "source": [
    "idx_above = heimvisionlamp_df.loc[345:]['time_since_previously_displayed_frame'].eq(0).idxmax()\n",
    "idx_above"
   ]
  },
  {
   "cell_type": "code",
   "execution_count": 25,
   "id": "f8294562",
   "metadata": {},
   "outputs": [],
   "source": [
    "heimvisionlamp_df_train = heimvisionlamp_df.iloc[:idx_above]\n",
    "heimvisionlamp_df_test = heimvisionlamp_df.iloc[idx_above:]"
   ]
  },
  {
   "cell_type": "markdown",
   "id": "c05c405d",
   "metadata": {},
   "source": [
    "# AMAZONPLUG"
   ]
  },
  {
   "cell_type": "code",
   "execution_count": 26,
   "id": "f5c5e40e",
   "metadata": {},
   "outputs": [],
   "source": [
    "amazonplug_df = pd.read_csv('amazonplug.csv')"
   ]
  },
  {
   "cell_type": "code",
   "execution_count": 27,
   "id": "80cf160c",
   "metadata": {},
   "outputs": [
    {
     "data": {
      "text/plain": [
       "412"
      ]
     },
     "execution_count": 27,
     "metadata": {},
     "output_type": "execute_result"
    }
   ],
   "source": [
    "idx_above = amazonplug_df.loc[405:]['time_since_previously_displayed_frame'].eq(0).idxmax()\n",
    "idx_above"
   ]
  },
  {
   "cell_type": "code",
   "execution_count": 28,
   "id": "41459d1b",
   "metadata": {},
   "outputs": [],
   "source": [
    "amazonplug_df_train = amazonplug_df.iloc[:idx_above]\n",
    "amazonplug_df_test = amazonplug_df.iloc[idx_above:]"
   ]
  },
  {
   "cell_type": "markdown",
   "id": "342a6657",
   "metadata": {},
   "source": [
    "# GLOBELAMP"
   ]
  },
  {
   "cell_type": "code",
   "execution_count": 29,
   "id": "a29018d5",
   "metadata": {},
   "outputs": [],
   "source": [
    "globelamp_df = pd.read_csv('globelamp.csv')"
   ]
  },
  {
   "cell_type": "code",
   "execution_count": 30,
   "id": "c998ca13",
   "metadata": {},
   "outputs": [
    {
     "data": {
      "text/plain": [
       "462"
      ]
     },
     "execution_count": 30,
     "metadata": {},
     "output_type": "execute_result"
    }
   ],
   "source": [
    "idx_above = globelamp_df.loc[455:]['time_since_previously_displayed_frame'].eq(0).idxmax()\n",
    "idx_above"
   ]
  },
  {
   "cell_type": "code",
   "execution_count": 31,
   "id": "8c926fee",
   "metadata": {},
   "outputs": [],
   "source": [
    "globelamp_df_train = globelamp_df.iloc[:idx_above]\n",
    "globelamp_df_test = globelamp_df.iloc[idx_above:]"
   ]
  },
  {
   "cell_type": "markdown",
   "id": "ad47d7dd",
   "metadata": {},
   "source": [
    "# PHILIPSHUE"
   ]
  },
  {
   "cell_type": "code",
   "execution_count": 32,
   "id": "ea992a34",
   "metadata": {},
   "outputs": [],
   "source": [
    "philipshue_df = pd.read_csv('philipshue.csv')"
   ]
  },
  {
   "cell_type": "code",
   "execution_count": 33,
   "id": "24a99167",
   "metadata": {},
   "outputs": [
    {
     "data": {
      "text/plain": [
       "677"
      ]
     },
     "execution_count": 33,
     "metadata": {},
     "output_type": "execute_result"
    }
   ],
   "source": [
    "idx_above = philipshue_df.loc[643:]['time_since_previously_displayed_frame'].eq(0).idxmax()\n",
    "idx_above"
   ]
  },
  {
   "cell_type": "code",
   "execution_count": 34,
   "id": "12d4d712",
   "metadata": {},
   "outputs": [],
   "source": [
    "philipshue_df_train = philipshue_df.iloc[:idx_above]\n",
    "philipshue_df_test = philipshue_df.iloc[idx_above:]"
   ]
  },
  {
   "cell_type": "markdown",
   "id": "e9446c16",
   "metadata": {},
   "source": [
    "# ROOMBA"
   ]
  },
  {
   "cell_type": "code",
   "execution_count": 35,
   "id": "b95868e6",
   "metadata": {},
   "outputs": [],
   "source": [
    "roomba_df = pd.read_csv('roomba.csv')"
   ]
  },
  {
   "cell_type": "code",
   "execution_count": 36,
   "id": "48392430",
   "metadata": {},
   "outputs": [
    {
     "data": {
      "text/plain": [
       "798"
      ]
     },
     "execution_count": 36,
     "metadata": {},
     "output_type": "execute_result"
    }
   ],
   "source": [
    "idx_above = roomba_df.loc[770:]['time_since_previously_displayed_frame'].eq(0).idxmax()\n",
    "idx_above"
   ]
  },
  {
   "cell_type": "code",
   "execution_count": 37,
   "id": "33548396",
   "metadata": {},
   "outputs": [],
   "source": [
    "roomba_df_train = roomba_df.iloc[:idx_above]\n",
    "roomba_df_test = roomba_df.iloc[idx_above:]"
   ]
  },
  {
   "cell_type": "markdown",
   "id": "69cd21d9",
   "metadata": {},
   "source": [
    "# BORUNCAM"
   ]
  },
  {
   "cell_type": "code",
   "execution_count": 38,
   "id": "bdf0b730",
   "metadata": {},
   "outputs": [],
   "source": [
    "boruncam_df = pd.read_csv('boruncam.csv')"
   ]
  },
  {
   "cell_type": "code",
   "execution_count": 39,
   "id": "087bbebc",
   "metadata": {},
   "outputs": [
    {
     "data": {
      "text/plain": [
       "1864"
      ]
     },
     "execution_count": 39,
     "metadata": {},
     "output_type": "execute_result"
    }
   ],
   "source": [
    "idx_above = boruncam_df.loc[1700:]['time_since_previously_displayed_frame'].eq(0).idxmax()\n",
    "idx_above"
   ]
  },
  {
   "cell_type": "code",
   "execution_count": 40,
   "id": "6dc5d36e",
   "metadata": {},
   "outputs": [],
   "source": [
    "boruncam_df_train = boruncam_df.iloc[:idx_above]\n",
    "boruncam_df_test = boruncam_df.iloc[idx_above:]"
   ]
  },
  {
   "cell_type": "markdown",
   "id": "1b60c48c",
   "metadata": {},
   "source": [
    "# ECHODOT"
   ]
  },
  {
   "cell_type": "code",
   "execution_count": 41,
   "id": "c02d856b",
   "metadata": {},
   "outputs": [],
   "source": [
    "echodot_df = pd.read_csv('echodot.csv')"
   ]
  },
  {
   "cell_type": "code",
   "execution_count": 42,
   "id": "4efc8ec6",
   "metadata": {},
   "outputs": [
    {
     "data": {
      "text/plain": [
       "1976"
      ]
     },
     "execution_count": 42,
     "metadata": {},
     "output_type": "execute_result"
    }
   ],
   "source": [
    "idx_above = echodot_df.loc[1900:]['time_since_previously_displayed_frame'].eq(0).idxmax()\n",
    "idx_above"
   ]
  },
  {
   "cell_type": "code",
   "execution_count": 43,
   "id": "e7c7fa3c",
   "metadata": {},
   "outputs": [],
   "source": [
    "echodot_df_train = echodot_df.iloc[:idx_above]\n",
    "echodot_df_test = echodot_df.iloc[idx_above:]"
   ]
  },
  {
   "cell_type": "markdown",
   "id": "d18f739c",
   "metadata": {},
   "source": [
    "# ECHOSTUDIO"
   ]
  },
  {
   "cell_type": "code",
   "execution_count": 44,
   "id": "cfa955f9",
   "metadata": {},
   "outputs": [],
   "source": [
    "echostudio_df = pd.read_csv('echostudio.csv')"
   ]
  },
  {
   "cell_type": "code",
   "execution_count": 45,
   "id": "c5bccc58",
   "metadata": {},
   "outputs": [
    {
     "data": {
      "text/plain": [
       "2055"
      ]
     },
     "execution_count": 45,
     "metadata": {},
     "output_type": "execute_result"
    }
   ],
   "source": [
    "idx_above = echostudio_df.loc[2000:]['time_since_previously_displayed_frame'].eq(0).idxmax()\n",
    "idx_above"
   ]
  },
  {
   "cell_type": "code",
   "execution_count": 46,
   "id": "c8791b57",
   "metadata": {},
   "outputs": [],
   "source": [
    "echostudio_df_train = echostudio_df.iloc[:idx_above]\n",
    "echostudio_df_test = echostudio_df.iloc[idx_above:]"
   ]
  },
  {
   "cell_type": "markdown",
   "id": "b6c35195",
   "metadata": {},
   "source": [
    "# ECHOSPOT"
   ]
  },
  {
   "cell_type": "code",
   "execution_count": 47,
   "id": "5c11b712",
   "metadata": {},
   "outputs": [],
   "source": [
    "echospot_df = pd.read_csv('echospot.csv')"
   ]
  },
  {
   "cell_type": "code",
   "execution_count": 53,
   "id": "265358b0",
   "metadata": {},
   "outputs": [
    {
     "data": {
      "text/plain": [
       "2166"
      ]
     },
     "execution_count": 53,
     "metadata": {},
     "output_type": "execute_result"
    }
   ],
   "source": [
    "idx_above = echospot_df.loc[2000:]['time_since_previously_displayed_frame'].eq(0).idxmax()\n",
    "idx_above"
   ]
  },
  {
   "cell_type": "code",
   "execution_count": 54,
   "id": "00653a18",
   "metadata": {},
   "outputs": [],
   "source": [
    "echospot_df_train = echospot_df.iloc[:idx_above] #67%\n",
    "echospot_df_test = echospot_df.iloc[idx_above:]"
   ]
  },
  {
   "cell_type": "markdown",
   "id": "0d810c6f",
   "metadata": {},
   "source": [
    "# NESTMINI"
   ]
  },
  {
   "cell_type": "code",
   "execution_count": 55,
   "id": "8dc2dafa",
   "metadata": {},
   "outputs": [],
   "source": [
    "nestmini_df = pd.read_csv('nestmini.csv')"
   ]
  },
  {
   "cell_type": "code",
   "execution_count": 60,
   "id": "09f7f82e",
   "metadata": {},
   "outputs": [
    {
     "data": {
      "text/plain": [
       "2456"
      ]
     },
     "execution_count": 60,
     "metadata": {},
     "output_type": "execute_result"
    }
   ],
   "source": [
    "idx_above = nestmini_df.loc[2280:]['time_since_previously_displayed_frame'].eq(0).idxmax()\n",
    "idx_above"
   ]
  },
  {
   "cell_type": "code",
   "execution_count": 61,
   "id": "89c5d867",
   "metadata": {},
   "outputs": [],
   "source": [
    "nestmini_df_train = nestmini_df.iloc[:idx_above]\n",
    "nestmini_df_test = nestmini_df.iloc[idx_above:]"
   ]
  },
  {
   "cell_type": "markdown",
   "id": "b36458bb",
   "metadata": {},
   "source": [
    "# SONOSONE:"
   ]
  },
  {
   "cell_type": "code",
   "execution_count": 68,
   "id": "8fb98113",
   "metadata": {},
   "outputs": [],
   "source": [
    "sonosone_df = pd.read_csv('sonosone.csv')"
   ]
  },
  {
   "cell_type": "code",
   "execution_count": 69,
   "id": "22214856",
   "metadata": {},
   "outputs": [
    {
     "data": {
      "text/plain": [
       "4839"
      ]
     },
     "execution_count": 69,
     "metadata": {},
     "output_type": "execute_result"
    }
   ],
   "source": [
    "#Sacamos el índice más cercano donde el tiempo sea 0 para no cortar flujos\n",
    "idx_above = sonosone_df.loc[4598:]['time_since_previously_displayed_frame'].eq(0).idxmax()\n",
    "idx_above"
   ]
  },
  {
   "cell_type": "code",
   "execution_count": 70,
   "id": "40f1b006",
   "metadata": {},
   "outputs": [],
   "source": [
    "sonosone_df_train = sonosone_df.iloc[:idx_above] #73.6%\n",
    "sonosone_df_test = sonosone_df.iloc[idx_above:]"
   ]
  },
  {
   "cell_type": "markdown",
   "id": "f8bdd8e3",
   "metadata": {},
   "source": [
    "# NESTCAM:"
   ]
  },
  {
   "cell_type": "code",
   "execution_count": 71,
   "id": "7f952554",
   "metadata": {},
   "outputs": [],
   "source": [
    "nestcam_df = pd.read_csv('nestcam.csv')"
   ]
  },
  {
   "cell_type": "code",
   "execution_count": 76,
   "id": "1e0a996e",
   "metadata": {},
   "outputs": [
    {
     "data": {
      "text/plain": [
       "4962"
      ]
     },
     "execution_count": 76,
     "metadata": {},
     "output_type": "execute_result"
    }
   ],
   "source": [
    "#Sacamos el índice más cercano donde el tiempo sea 0 para no cortar flujos\n",
    "idx_above = nestcam_df.loc[4500:]['time_since_previously_displayed_frame'].eq(0).idxmax()\n",
    "idx_above"
   ]
  },
  {
   "cell_type": "code",
   "execution_count": 77,
   "id": "7b77b54e",
   "metadata": {},
   "outputs": [],
   "source": [
    "nestcam_df_train = nestcam_df.iloc[:idx_above] #66%\n",
    "nestcam_df_test = nestcam_df.iloc[idx_above:]"
   ]
  },
  {
   "cell_type": "markdown",
   "id": "1677eb2d",
   "metadata": {},
   "source": [
    "# NETATMOCAM: "
   ]
  },
  {
   "cell_type": "code",
   "execution_count": 78,
   "id": "bb9ffb7e",
   "metadata": {},
   "outputs": [],
   "source": [
    "netatmocam_df = pd.read_csv('netatmocam.csv')"
   ]
  },
  {
   "cell_type": "code",
   "execution_count": 79,
   "id": "d927754e",
   "metadata": {},
   "outputs": [
    {
     "data": {
      "text/plain": [
       "7188"
      ]
     },
     "execution_count": 79,
     "metadata": {},
     "output_type": "execute_result"
    }
   ],
   "source": [
    "idx_above2 = netatmocam_df.loc[7000:]['time_since_previously_displayed_frame'].eq(0).idxmax()\n",
    "idx_above2"
   ]
  },
  {
   "cell_type": "code",
   "execution_count": 80,
   "id": "ac57efd6",
   "metadata": {},
   "outputs": [],
   "source": [
    "netatmocam_df_train = netatmocam_df.iloc[:idx_above2]\n",
    "netatmocam_df_test = netatmocam_df.iloc[idx_above2:]"
   ]
  },
  {
   "cell_type": "markdown",
   "id": "fff86dab",
   "metadata": {},
   "source": [
    "# EUFYHOMEBASE:"
   ]
  },
  {
   "cell_type": "code",
   "execution_count": 82,
   "id": "43e145ad",
   "metadata": {},
   "outputs": [],
   "source": [
    "eufyhomebase_df = pd.read_csv('eufyhomebase.csv')"
   ]
  },
  {
   "cell_type": "code",
   "execution_count": 85,
   "id": "dbf85bdb",
   "metadata": {},
   "outputs": [
    {
     "data": {
      "text/plain": [
       "7053"
      ]
     },
     "execution_count": 85,
     "metadata": {},
     "output_type": "execute_result"
    }
   ],
   "source": [
    "#Sacamos el índice más cercano donde el tiempo sea 0 para no cortar flujos\n",
    "idx_above = eufyhomebase_df.loc[7000:]['time_since_previously_displayed_frame'].eq(0).idxmax()\n",
    "idx_above"
   ]
  },
  {
   "cell_type": "code",
   "execution_count": 86,
   "id": "1887f31c",
   "metadata": {},
   "outputs": [],
   "source": [
    "eufyhomebase_df_train = eufyhomebase_df.iloc[:idx_above]\n",
    "eufyhomebase_df_test = eufyhomebase_df.iloc[idx_above:]"
   ]
  },
  {
   "cell_type": "markdown",
   "id": "1e5cf9b4",
   "metadata": {},
   "source": [
    "# DLINKCAM:"
   ]
  },
  {
   "cell_type": "code",
   "execution_count": 87,
   "id": "470f0397",
   "metadata": {},
   "outputs": [],
   "source": [
    "dlinkcam_df = pd.read_csv('dlinkcam.csv')"
   ]
  },
  {
   "cell_type": "code",
   "execution_count": 90,
   "id": "b75a1ca1",
   "metadata": {},
   "outputs": [
    {
     "data": {
      "text/plain": [
       "11249"
      ]
     },
     "execution_count": 90,
     "metadata": {},
     "output_type": "execute_result"
    }
   ],
   "source": [
    "#Sacamos el índice más cercano donde el tiempo sea 0 para no cortar flujos\n",
    "idx_above = dlinkcam_df.loc[8500:]['time_since_previously_displayed_frame'].eq(0).idxmax()\n",
    "idx_above #Podemos elegir, 60% u 80%"
   ]
  },
  {
   "cell_type": "code",
   "execution_count": 91,
   "id": "8db0b89a",
   "metadata": {},
   "outputs": [],
   "source": [
    "dlinkcam_df_train = dlinkcam_df.iloc[:idx_above]\n",
    "dlinkcam_df_test = dlinkcam_df.iloc[idx_above:]"
   ]
  },
  {
   "cell_type": "markdown",
   "id": "cbe9bcd1",
   "metadata": {},
   "source": [
    "# HEIMVISIONCAM:"
   ]
  },
  {
   "cell_type": "code",
   "execution_count": 92,
   "id": "2a31b9b0",
   "metadata": {},
   "outputs": [],
   "source": [
    "heimvisioncam_df = pd.read_csv('heimvisioncam.csv')"
   ]
  },
  {
   "cell_type": "code",
   "execution_count": 96,
   "id": "168969ae",
   "metadata": {},
   "outputs": [
    {
     "data": {
      "text/plain": [
       "10874"
      ]
     },
     "execution_count": 96,
     "metadata": {},
     "output_type": "execute_result"
    }
   ],
   "source": [
    "#Sacamos el índice más cercano donde el tiempo sea 0 para no cortar flujos\n",
    "idx_above = heimvisioncam_df.loc[10000:]['time_since_previously_displayed_frame'].eq(0).idxmax()\n",
    "idx_above #Podemos elegir, 63.68% u 80.7%"
   ]
  },
  {
   "cell_type": "code",
   "execution_count": 97,
   "id": "dc450196",
   "metadata": {},
   "outputs": [],
   "source": [
    "heimvisioncam_df_train = heimvisioncam_df.iloc[:idx_above]\n",
    "heimvisioncam_df_test = heimvisioncam_df.iloc[idx_above:]"
   ]
  },
  {
   "cell_type": "markdown",
   "id": "3b752ac8",
   "metadata": {},
   "source": [
    "# AMCREST:"
   ]
  },
  {
   "cell_type": "code",
   "execution_count": 98,
   "id": "55164efc",
   "metadata": {},
   "outputs": [],
   "source": [
    "amcrest_df = pd.read_csv('amcrest.csv')"
   ]
  },
  {
   "cell_type": "code",
   "execution_count": 102,
   "id": "59890a37",
   "metadata": {},
   "outputs": [
    {
     "data": {
      "text/plain": [
       "14335"
      ]
     },
     "execution_count": 102,
     "metadata": {},
     "output_type": "execute_result"
    }
   ],
   "source": [
    "#Sacamos el índice más cercano donde el tiempo sea 0 para no cortar flujos\n",
    "idx_above = amcrest_df.loc[11000:]['time_since_previously_displayed_frame'].eq(0).idxmax()\n",
    "idx_above #Podemos elegir, 56.7% u 78%"
   ]
  },
  {
   "cell_type": "code",
   "execution_count": 103,
   "id": "ebd3897d",
   "metadata": {},
   "outputs": [],
   "source": [
    "amcrest_df_train = amcrest_df.iloc[:idx_above]\n",
    "amcrest_df_test = amcrest_df.iloc[idx_above:]"
   ]
  },
  {
   "cell_type": "markdown",
   "id": "3d2da693",
   "metadata": {},
   "source": [
    "# LUOHECAM:"
   ]
  },
  {
   "cell_type": "code",
   "execution_count": 104,
   "id": "148f1d21",
   "metadata": {},
   "outputs": [],
   "source": [
    "luohecam_df = pd.read_csv('luohecam.csv')"
   ]
  },
  {
   "cell_type": "code",
   "execution_count": 110,
   "id": "9946f291",
   "metadata": {},
   "outputs": [
    {
     "data": {
      "text/plain": [
       "15480"
      ]
     },
     "execution_count": 110,
     "metadata": {},
     "output_type": "execute_result"
    }
   ],
   "source": [
    "#Sacamos el índice más cercano donde el tiempo sea 0 para no cortar flujos\n",
    "idx_above = luohecam_df.loc[14000:]['time_since_previously_displayed_frame'].eq(0).idxmax()\n",
    "idx_above"
   ]
  },
  {
   "cell_type": "code",
   "execution_count": 111,
   "id": "860d4d10",
   "metadata": {},
   "outputs": [],
   "source": [
    "#Ponemos el límete en número, por el reajuste anterior\n",
    "luohecam_df_train = luohecam_df.iloc[:idx_above]\n",
    "luohecam_df_test = luohecam_df.iloc[idx_above:]\n",
    "#7869 y 3682 se podría sacar"
   ]
  },
  {
   "cell_type": "markdown",
   "id": "ff26cf7a",
   "metadata": {},
   "source": [
    "# ARLOBASESTATIONCAM:"
   ]
  },
  {
   "cell_type": "code",
   "execution_count": 112,
   "id": "aa94bb6b",
   "metadata": {},
   "outputs": [],
   "source": [
    "arlobasestationcam_df = pd.read_csv('arlobasestationcam.csv')"
   ]
  },
  {
   "cell_type": "code",
   "execution_count": 118,
   "id": "a94fe45e",
   "metadata": {},
   "outputs": [
    {
     "data": {
      "text/plain": [
       "14359"
      ]
     },
     "execution_count": 118,
     "metadata": {},
     "output_type": "execute_result"
    }
   ],
   "source": [
    "#Sacamos el índice más cercano donde el tiempo sea 0 para no cortar flujos\n",
    "idx_above = arlobasestationcam_df.loc[14355:]['time_since_previously_displayed_frame'].eq(0).idxmax()\n",
    "idx_above"
   ]
  },
  {
   "cell_type": "code",
   "execution_count": 119,
   "id": "a704b097",
   "metadata": {},
   "outputs": [],
   "source": [
    "arlobasestationcam_df_train = arlobasestationcam_df.iloc[:idx_above]\n",
    "arlobasestationcam_df_test = arlobasestationcam_df.iloc[idx_above:]"
   ]
  },
  {
   "cell_type": "markdown",
   "id": "7a8d415f",
   "metadata": {},
   "source": [
    "# ARLOQCAM:"
   ]
  },
  {
   "cell_type": "code",
   "execution_count": 120,
   "id": "2ef5a90b",
   "metadata": {},
   "outputs": [],
   "source": [
    "arloqcam_df = pd.read_csv('arloqcam.csv')"
   ]
  },
  {
   "cell_type": "code",
   "execution_count": 121,
   "id": "347e6210",
   "metadata": {},
   "outputs": [
    {
     "data": {
      "text/plain": [
       "15393"
      ]
     },
     "execution_count": 121,
     "metadata": {},
     "output_type": "execute_result"
    }
   ],
   "source": [
    "#Sacamos el índice más cercano donde el tiempo sea 0 para no cortar flujos\n",
    "idx_above = arloqcam_df.loc[15300:]['time_since_previously_displayed_frame'].eq(0).idxmax()\n",
    "idx_above"
   ]
  },
  {
   "cell_type": "code",
   "execution_count": 122,
   "id": "97772df2",
   "metadata": {},
   "outputs": [],
   "source": [
    "arloqcam_df_train = arloqcam_df.iloc[:idx_above]\n",
    "arloqcam_df_test = arloqcam_df.iloc[idx_above:]"
   ]
  },
  {
   "cell_type": "markdown",
   "id": "e56ae715",
   "metadata": {},
   "source": [
    "# HOMEEYECAM:"
   ]
  },
  {
   "cell_type": "code",
   "execution_count": 124,
   "id": "f144a80d",
   "metadata": {},
   "outputs": [],
   "source": [
    "homeeyecam_df = pd.read_csv('homeeyecam.csv')"
   ]
  },
  {
   "cell_type": "code",
   "execution_count": 130,
   "id": "710b7682",
   "metadata": {},
   "outputs": [
    {
     "data": {
      "text/plain": [
       "17682"
      ]
     },
     "execution_count": 130,
     "metadata": {},
     "output_type": "execute_result"
    }
   ],
   "source": [
    "#Sacamos el índice más cercano donde el tiempo sea 0 para no cortar flujos\n",
    "idx_above = homeeyecam_df.loc[17600:]['time_since_previously_displayed_frame'].eq(0).idxmax()\n",
    "idx_above #64%"
   ]
  },
  {
   "cell_type": "code",
   "execution_count": 131,
   "id": "913d69f8",
   "metadata": {},
   "outputs": [],
   "source": [
    "homeeyecam_df_train = homeeyecam_df.iloc[:idx_above]\n",
    "homeeyecam_df_test = homeeyecam_df.iloc[idx_above:] "
   ]
  },
  {
   "cell_type": "markdown",
   "id": "ae5aceb8",
   "metadata": {},
   "source": [
    "# SIMCAM:"
   ]
  },
  {
   "cell_type": "code",
   "execution_count": 136,
   "id": "8487f0c9",
   "metadata": {},
   "outputs": [],
   "source": [
    "simcam_df = pd.read_csv('simcam.csv')"
   ]
  },
  {
   "cell_type": "code",
   "execution_count": 137,
   "id": "d5b40b85",
   "metadata": {},
   "outputs": [
    {
     "data": {
      "text/plain": [
       "23279"
      ]
     },
     "execution_count": 137,
     "metadata": {},
     "output_type": "execute_result"
    }
   ],
   "source": [
    "#Sacamos el índice más cercano donde el tiempo sea 0 para no cortar flujos\n",
    "idx_above = simcam_df.loc[23000:]['time_since_previously_displayed_frame'].eq(0).idxmax()\n",
    "idx_above #68%"
   ]
  },
  {
   "cell_type": "code",
   "execution_count": 138,
   "id": "8d8f6e07",
   "metadata": {},
   "outputs": [],
   "source": [
    "simcam_df_train = simcam_df.iloc[:idx_above]\n",
    "simcam_df_test = simcam_df.iloc[idx_above:] "
   ]
  },
  {
   "cell_type": "markdown",
   "id": "e1565c66",
   "metadata": {},
   "source": [
    "# CONCATENACIÓN DE LOS DATAFRAMES:"
   ]
  },
  {
   "cell_type": "markdown",
   "id": "2de708a9",
   "metadata": {},
   "source": [
    "### TRAIN:"
   ]
  },
  {
   "cell_type": "code",
   "execution_count": 140,
   "id": "8006bbe8",
   "metadata": {},
   "outputs": [],
   "source": [
    "train_df = pd.concat(objs=[smartboard_df_train, teckin1_df_train, yutron2_df_train, yutron1_df_train, teckin2_df_train, atomicoffeemaker_df_train, heimvisionlamp_df_train, amazonplug_df_train, globelamp_df_train, philipshue_df_train, roomba_df_train, boruncam_df_train, echodot_df_train, echostudio_df_train, echospot_df_train, nestmini_df_train, sonosone_df_train, nestcam_df_train, netatmocam_df_train, eufyhomebase_df_train, dlinkcam_df_train, heimvisioncam_df_train, amcrest_df_train, luohecam_df_train, arlobasestationcam_df_train, arloqcam_df_train, homeeyecam_df_train, simcam_df_train], ignore_index=True, copy=False, sort=False)\n",
    "test_df = pd.concat(objs=[smartboard_df_test, teckin1_df_test, yutron2_df_test, yutron1_df_test, teckin2_df_test, atomicoffeemaker_df_test, heimvisionlamp_df_test, amazonplug_df_test, globelamp_df_test, philipshue_df_test, roomba_df_test, boruncam_df_test, echodot_df_test, echostudio_df_test, echospot_df_test, nestmini_df_test, sonosone_df_test,nestcam_df_test, netatmocam_df_test, eufyhomebase_df_test, dlinkcam_df_test, heimvisioncam_df_test, amcrest_df_test, luohecam_df_test, arlobasestationcam_df_test, arloqcam_df_test, homeeyecam_df_test, simcam_df_test], ignore_index=True, copy=False, sort=False)"
   ]
  },
  {
   "cell_type": "code",
   "execution_count": 141,
   "id": "b52f9c14",
   "metadata": {},
   "outputs": [
    {
     "name": "stdout",
     "output_type": "stream",
     "text": [
      "Train : (160933, 45)\n",
      "Test : (68546, 45)\n"
     ]
    }
   ],
   "source": [
    "print(f'Train : {train_df.shape}') #70.13%\n",
    "print(f'Test : {test_df.shape}')   #29.87%"
   ]
  },
  {
   "cell_type": "code",
   "execution_count": 144,
   "id": "a75e8d6c",
   "metadata": {},
   "outputs": [],
   "source": [
    "train_df.to_parquet('train.parquet', use_dictionary = False)\n",
    "test_df.to_parquet('test.parquet', use_dictionary = False)"
   ]
  },
  {
   "cell_type": "code",
   "execution_count": null,
   "id": "2d58f0a3",
   "metadata": {},
   "outputs": [],
   "source": []
  }
 ],
 "metadata": {
  "kernelspec": {
   "display_name": "Python 3 (ipykernel)",
   "language": "python",
   "name": "python3"
  },
  "language_info": {
   "codemirror_mode": {
    "name": "ipython",
    "version": 3
   },
   "file_extension": ".py",
   "mimetype": "text/x-python",
   "name": "python",
   "nbconvert_exporter": "python",
   "pygments_lexer": "ipython3",
   "version": "3.9.13"
  }
 },
 "nbformat": 4,
 "nbformat_minor": 5
}
